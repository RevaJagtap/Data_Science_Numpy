{
 "cells": [
  {
   "cell_type": "code",
   "execution_count": 22,
   "id": "3ffae0a9",
   "metadata": {},
   "outputs": [],
   "source": [
    "import numpy as np"
   ]
  },
  {
   "cell_type": "code",
   "execution_count": 23,
   "id": "c15eef51",
   "metadata": {},
   "outputs": [
    {
     "name": "stdout",
     "output_type": "stream",
     "text": [
      "['In', 'Out', '_', '_18', '_4', '_5', '_6', '_7', '_8', '__', '___', '__builtin__', '__builtins__', '__doc__', '__loader__', '__name__', '__package__', '__spec__', '_dh', '_i', '_i1', '_i10', '_i11', '_i12', '_i13', '_i14', '_i15', '_i16', '_i17', '_i18', '_i19', '_i2', '_i20', '_i21', '_i22', '_i23', '_i3', '_i4', '_i5', '_i6', '_i7', '_i8', '_i9', '_ih', '_ii', '_iii', '_oh', 'array', 'exit', 'get_ipython', 'np', 'quit']\n"
     ]
    }
   ],
   "source": [
    "print(dir())"
   ]
  },
  {
   "cell_type": "code",
   "execution_count": 24,
   "id": "ec4ec426",
   "metadata": {},
   "outputs": [
    {
     "data": {
      "text/plain": [
       "array([[ True,  True,  True,  True],\n",
       "       [ True,  True,  True,  True],\n",
       "       [ True,  True,  True,  True],\n",
       "       [ True,  True,  True,  True]])"
      ]
     },
     "execution_count": 24,
     "metadata": {},
     "output_type": "execute_result"
    }
   ],
   "source": [
    "# I want 4x4 numpy array whose all value set to True\n",
    "np.full((4,4),fill_value=True)"
   ]
  },
  {
   "cell_type": "code",
   "execution_count": 25,
   "id": "b87a3e8f",
   "metadata": {},
   "outputs": [
    {
     "data": {
      "text/plain": [
       "array([[ True,  True,  True,  True],\n",
       "       [ True,  True,  True,  True],\n",
       "       [ True,  True,  True,  True],\n",
       "       [ True,  True,  True,  True]])"
      ]
     },
     "execution_count": 25,
     "metadata": {},
     "output_type": "execute_result"
    }
   ],
   "source": [
    "np.ones((4,4),dtype=bool)"
   ]
  },
  {
   "cell_type": "code",
   "execution_count": 26,
   "id": "78672429",
   "metadata": {},
   "outputs": [
    {
     "data": {
      "text/plain": [
       "array([[False, False, False, False],\n",
       "       [False, False, False, False],\n",
       "       [False, False, False, False],\n",
       "       [False, False, False, False]])"
      ]
     },
     "execution_count": 26,
     "metadata": {},
     "output_type": "execute_result"
    }
   ],
   "source": [
    "# I want 4x4 numpy array whose all value set to False\n",
    "np.zeros((4,4),dtype=bool)"
   ]
  },
  {
   "cell_type": "code",
   "execution_count": 27,
   "id": "7e4c3171",
   "metadata": {},
   "outputs": [
    {
     "data": {
      "text/plain": [
       "array([[ True, False, False, False],\n",
       "       [False,  True, False, False],\n",
       "       [False, False,  True, False],\n",
       "       [False, False, False,  True]])"
      ]
     },
     "execution_count": 27,
     "metadata": {},
     "output_type": "execute_result"
    }
   ],
   "source": [
    "# I want 4x4 numpy array whose diagonal value set to True and non diagonal False\n",
    "np.identity(4,dtype=bool)"
   ]
  },
  {
   "cell_type": "code",
   "execution_count": 28,
   "id": "8d50fdc6",
   "metadata": {},
   "outputs": [
    {
     "data": {
      "text/plain": [
       "array([[False, False, False, False],\n",
       "       [False, False, False, False],\n",
       "       [False, False, False, False],\n",
       "       [False, False, False, False]])"
      ]
     },
     "execution_count": 28,
     "metadata": {},
     "output_type": "execute_result"
    }
   ],
   "source": [
    "#Assignment: I want 4x4 numpy array whose diagonal value set to False and non diagonal True\n",
    "np.full((4,4),fill_value=False)"
   ]
  },
  {
   "cell_type": "code",
   "execution_count": 30,
   "id": "871fdf69",
   "metadata": {},
   "outputs": [],
   "source": [
    "e = np.ones((4,4),dtype=bool)\n",
    "np.fill_diagonal(e,False)"
   ]
  },
  {
   "cell_type": "code",
   "execution_count": 31,
   "id": "d1b185e8",
   "metadata": {},
   "outputs": [
    {
     "data": {
      "text/plain": [
       "array([[False,  True,  True,  True],\n",
       "       [ True, False,  True,  True],\n",
       "       [ True,  True, False,  True],\n",
       "       [ True,  True,  True, False]])"
      ]
     },
     "execution_count": 31,
     "metadata": {},
     "output_type": "execute_result"
    }
   ],
   "source": [
    "e"
   ]
  },
  {
   "cell_type": "code",
   "execution_count": 32,
   "id": "c60ae5d7",
   "metadata": {},
   "outputs": [
    {
     "data": {
      "text/plain": [
       "array([[False,  True,  True,  True],\n",
       "       [ True, False,  True,  True],\n",
       "       [ True,  True, False,  True],\n",
       "       [ True,  True,  True, False]])"
      ]
     },
     "execution_count": 32,
     "metadata": {},
     "output_type": "execute_result"
    }
   ],
   "source": [
    "# another solution\n",
    "~ np.identity(4,bool)\n",
    "\n",
    "# ~ tild sign: used for bitwise not operatioon\n",
    "# means if True then convert to False\n",
    "#  & if False then convert to True"
   ]
  },
  {
   "cell_type": "code",
   "execution_count": 33,
   "id": "5069acfc",
   "metadata": {},
   "outputs": [
    {
     "data": {
      "text/plain": [
       "False"
      ]
     },
     "execution_count": 33,
     "metadata": {},
     "output_type": "execute_result"
    }
   ],
   "source": [
    "not True # logical not (works on single input) , ~ bitwise not(works on multiple inputs)"
   ]
  },
  {
   "cell_type": "markdown",
   "id": "41e33e9d",
   "metadata": {},
   "source": [
    "# Check different properties of numpy array\n"
   ]
  },
  {
   "cell_type": "code",
   "execution_count": 34,
   "id": "c4bb6478",
   "metadata": {},
   "outputs": [],
   "source": [
    "a=np.random.random((4,4))"
   ]
  },
  {
   "cell_type": "code",
   "execution_count": 35,
   "id": "6a335aac",
   "metadata": {},
   "outputs": [
    {
     "data": {
      "text/plain": [
       "array([[0.66266789, 0.38666235, 0.88074993, 0.81624037],\n",
       "       [0.72697742, 0.48106905, 0.72694264, 0.83866852],\n",
       "       [0.23253555, 0.99409775, 0.51183877, 0.84741417],\n",
       "       [0.24222459, 0.76527028, 0.02939472, 0.81108784]])"
      ]
     },
     "execution_count": 35,
     "metadata": {},
     "output_type": "execute_result"
    }
   ],
   "source": [
    "a"
   ]
  },
  {
   "cell_type": "code",
   "execution_count": 36,
   "id": "a548603c",
   "metadata": {},
   "outputs": [
    {
     "data": {
      "text/plain": [
       "16"
      ]
     },
     "execution_count": 36,
     "metadata": {},
     "output_type": "execute_result"
    }
   ],
   "source": [
    "# size: total elements present\n",
    "a.size"
   ]
  },
  {
   "cell_type": "code",
   "execution_count": 37,
   "id": "91d861a7",
   "metadata": {},
   "outputs": [
    {
     "data": {
      "text/plain": [
       "(4, 4)"
      ]
     },
     "execution_count": 37,
     "metadata": {},
     "output_type": "execute_result"
    }
   ],
   "source": [
    "# check shape\n",
    "a.shape"
   ]
  },
  {
   "cell_type": "code",
   "execution_count": 38,
   "id": "33df7121",
   "metadata": {},
   "outputs": [
    {
     "name": "stdout",
     "output_type": "stream",
     "text": [
      "Total number of rows 4\n",
      "Total number of columns 4\n"
     ]
    }
   ],
   "source": [
    "print('Total number of rows',a.shape[0])\n",
    "print('Total number of columns',a.shape[1])"
   ]
  },
  {
   "cell_type": "code",
   "execution_count": 39,
   "id": "8dd44df3",
   "metadata": {},
   "outputs": [
    {
     "data": {
      "text/plain": [
       "8"
      ]
     },
     "execution_count": 39,
     "metadata": {},
     "output_type": "execute_result"
    }
   ],
   "source": [
    "# a memory in bytes to each element\n",
    "a.itemsize"
   ]
  },
  {
   "cell_type": "code",
   "execution_count": 40,
   "id": "9c09f174",
   "metadata": {},
   "outputs": [
    {
     "data": {
      "text/plain": [
       "dtype('float64')"
      ]
     },
     "execution_count": 40,
     "metadata": {},
     "output_type": "execute_result"
    }
   ],
   "source": [
    "# check data type\n",
    "a.dtype"
   ]
  },
  {
   "cell_type": "code",
   "execution_count": 41,
   "id": "991308d2",
   "metadata": {},
   "outputs": [
    {
     "data": {
      "text/plain": [
       "<memory at 0x000001A7E4DC4A00>"
      ]
     },
     "execution_count": 41,
     "metadata": {},
     "output_type": "execute_result"
    }
   ],
   "source": [
    "# check a memory\n",
    "a.data"
   ]
  },
  {
   "cell_type": "code",
   "execution_count": 42,
   "id": "7bc3d3fd",
   "metadata": {},
   "outputs": [
    {
     "data": {
      "text/plain": [
       "2"
      ]
     },
     "execution_count": 42,
     "metadata": {},
     "output_type": "execute_result"
    }
   ],
   "source": [
    "#check dimension\n",
    "a.ndim"
   ]
  },
  {
   "cell_type": "markdown",
   "id": "2e9ac67e",
   "metadata": {},
   "source": [
    "# Shape manipulation"
   ]
  },
  {
   "cell_type": "code",
   "execution_count": 43,
   "id": "713a9221",
   "metadata": {},
   "outputs": [
    {
     "name": "stdout",
     "output_type": "stream",
     "text": [
      "[[0.66266789 0.38666235 0.88074993 0.81624037]\n",
      " [0.72697742 0.48106905 0.72694264 0.83866852]\n",
      " [0.23253555 0.99409775 0.51183877 0.84741417]\n",
      " [0.24222459 0.76527028 0.02939472 0.81108784]]\n",
      "[[0.66266789 0.38666235 0.88074993 0.81624037]\n",
      " [0.72697742 0.48106905 0.72694264 0.83866852]\n",
      " [0.23253555 0.99409775 0.51183877 0.84741417]\n",
      " [0.24222459 0.76527028 0.02939472 0.81108784]]\n",
      "Ganesh\n"
     ]
    }
   ],
   "source": [
    "print(a)\n",
    "print(a)\n",
    "print('Ganesh')"
   ]
  },
  {
   "cell_type": "code",
   "execution_count": 45,
   "id": "4879d971",
   "metadata": {},
   "outputs": [
    {
     "data": {
      "text/plain": [
       "array([[0.66266789, 0.38666235, 0.88074993, 0.81624037],\n",
       "       [0.72697742, 0.48106905, 0.72694264, 0.83866852],\n",
       "       [0.23253555, 0.99409775, 0.51183877, 0.84741417],\n",
       "       [0.24222459, 0.76527028, 0.02939472, 0.81108784]])"
      ]
     },
     "metadata": {},
     "output_type": "display_data"
    },
    {
     "data": {
      "text/plain": [
       "array([[0.66266789, 0.38666235, 0.88074993, 0.81624037],\n",
       "       [0.72697742, 0.48106905, 0.72694264, 0.83866852],\n",
       "       [0.23253555, 0.99409775, 0.51183877, 0.84741417],\n",
       "       [0.24222459, 0.76527028, 0.02939472, 0.81108784]])"
      ]
     },
     "metadata": {},
     "output_type": "display_data"
    },
    {
     "data": {
      "text/plain": [
       "'Ganesh'"
      ]
     },
     "metadata": {},
     "output_type": "display_data"
    }
   ],
   "source": [
    "display(a,a,'Ganesh')"
   ]
  },
  {
   "cell_type": "code",
   "execution_count": 46,
   "id": "bdcec53c",
   "metadata": {},
   "outputs": [
    {
     "data": {
      "text/plain": [
       "(4, 4)"
      ]
     },
     "execution_count": 46,
     "metadata": {},
     "output_type": "execute_result"
    }
   ],
   "source": [
    "#shape\n",
    "a.shape"
   ]
  },
  {
   "cell_type": "code",
   "execution_count": 47,
   "id": "acd023fe",
   "metadata": {},
   "outputs": [
    {
     "data": {
      "text/plain": [
       "'\\n1,4,4\\n2,2,4\\n4,2,2\\n'"
      ]
     },
     "execution_count": 47,
     "metadata": {},
     "output_type": "execute_result"
    }
   ],
   "source": [
    "# 16 eleements: \n",
    "# 1,16\n",
    "# 2,8\n",
    "# 8,2\n",
    "# 4,4\n",
    "# 16,1\n",
    "#---- 3D\n",
    "\"\"\"\n",
    "1,4,4\n",
    "2,2,4\n",
    "4,2,2\n",
    "\"\"\""
   ]
  },
  {
   "cell_type": "markdown",
   "id": "c5a6cb5d",
   "metadata": {},
   "source": [
    "# reshape():it changes shape temp.\n"
   ]
  },
  {
   "cell_type": "code",
   "execution_count": 48,
   "id": "f761c6e7",
   "metadata": {},
   "outputs": [],
   "source": [
    "b=np.array((4,4))"
   ]
  },
  {
   "cell_type": "code",
   "execution_count": 49,
   "id": "c428c015",
   "metadata": {},
   "outputs": [
    {
     "data": {
      "text/plain": [
       "array([4, 4])"
      ]
     },
     "execution_count": 49,
     "metadata": {},
     "output_type": "execute_result"
    }
   ],
   "source": [
    "b"
   ]
  },
  {
   "cell_type": "code",
   "execution_count": 50,
   "id": "0614cad0",
   "metadata": {},
   "outputs": [
    {
     "data": {
      "text/plain": [
       "array([[0.66266789, 0.38666235],\n",
       "       [0.88074993, 0.81624037],\n",
       "       [0.72697742, 0.48106905],\n",
       "       [0.72694264, 0.83866852],\n",
       "       [0.23253555, 0.99409775],\n",
       "       [0.51183877, 0.84741417],\n",
       "       [0.24222459, 0.76527028],\n",
       "       [0.02939472, 0.81108784]])"
      ]
     },
     "execution_count": 50,
     "metadata": {},
     "output_type": "execute_result"
    }
   ],
   "source": [
    "# convert shape to 8(rows)x2(columns)\n",
    "a.reshape(8,2)"
   ]
  },
  {
   "cell_type": "code",
   "execution_count": 51,
   "id": "489bbf4e",
   "metadata": {},
   "outputs": [
    {
     "data": {
      "text/plain": [
       "array([[[0.66266789, 0.38666235],\n",
       "        [0.88074993, 0.81624037],\n",
       "        [0.72697742, 0.48106905],\n",
       "        [0.72694264, 0.83866852]],\n",
       "\n",
       "       [[0.23253555, 0.99409775],\n",
       "        [0.51183877, 0.84741417],\n",
       "        [0.24222459, 0.76527028],\n",
       "        [0.02939472, 0.81108784]]])"
      ]
     },
     "execution_count": 51,
     "metadata": {},
     "output_type": "execute_result"
    }
   ],
   "source": [
    "#3D using reshape\n",
    "# 2x4x2\n",
    "a.reshape(2,4,2)"
   ]
  },
  {
   "cell_type": "code",
   "execution_count": 53,
   "id": "d649f8f1",
   "metadata": {},
   "outputs": [
    {
     "data": {
      "text/plain": [
       "array([[[0.66266789, 0.38666235],\n",
       "        [0.88074993, 0.81624037]],\n",
       "\n",
       "       [[0.72697742, 0.48106905],\n",
       "        [0.72694264, 0.83866852]],\n",
       "\n",
       "       [[0.23253555, 0.99409775],\n",
       "        [0.51183877, 0.84741417]],\n",
       "\n",
       "       [[0.24222459, 0.76527028],\n",
       "        [0.02939472, 0.81108784]]])"
      ]
     },
     "execution_count": 53,
     "metadata": {},
     "output_type": "execute_result"
    }
   ],
   "source": [
    "a.reshape(4,2,2)"
   ]
  },
  {
   "cell_type": "code",
   "execution_count": 54,
   "id": "9db8988f",
   "metadata": {},
   "outputs": [
    {
     "data": {
      "text/plain": [
       "array([[0.66266789, 0.38666235, 0.88074993, 0.81624037],\n",
       "       [0.72697742, 0.48106905, 0.72694264, 0.83866852],\n",
       "       [0.23253555, 0.99409775, 0.51183877, 0.84741417],\n",
       "       [0.24222459, 0.76527028, 0.02939472, 0.81108784]])"
      ]
     },
     "execution_count": 54,
     "metadata": {},
     "output_type": "execute_result"
    }
   ],
   "source": [
    "a # a is unchanged"
   ]
  },
  {
   "cell_type": "markdown",
   "id": "edce288b",
   "metadata": {},
   "source": [
    "# resize(): to do changes permanently"
   ]
  },
  {
   "cell_type": "code",
   "execution_count": 55,
   "id": "b0a0b8eb",
   "metadata": {},
   "outputs": [
    {
     "data": {
      "text/plain": [
       "array([[0.66266789, 0.38666235, 0.88074993, 0.81624037],\n",
       "       [0.72697742, 0.48106905, 0.72694264, 0.83866852],\n",
       "       [0.23253555, 0.99409775, 0.51183877, 0.84741417],\n",
       "       [0.24222459, 0.76527028, 0.02939472, 0.81108784]])"
      ]
     },
     "execution_count": 55,
     "metadata": {},
     "output_type": "execute_result"
    }
   ],
   "source": [
    "a"
   ]
  },
  {
   "cell_type": "code",
   "execution_count": 56,
   "id": "12492c37",
   "metadata": {},
   "outputs": [
    {
     "data": {
      "text/plain": [
       "(4, 4)"
      ]
     },
     "execution_count": 56,
     "metadata": {},
     "output_type": "execute_result"
    }
   ],
   "source": [
    "a.shape"
   ]
  },
  {
   "cell_type": "code",
   "execution_count": 57,
   "id": "7e16b4b0",
   "metadata": {},
   "outputs": [],
   "source": [
    "#convert into 1D permenantly\n",
    "a.resize(16)"
   ]
  },
  {
   "cell_type": "code",
   "execution_count": 58,
   "id": "dad25bbe",
   "metadata": {},
   "outputs": [
    {
     "data": {
      "text/plain": [
       "array([0.66266789, 0.38666235, 0.88074993, 0.81624037, 0.72697742,\n",
       "       0.48106905, 0.72694264, 0.83866852, 0.23253555, 0.99409775,\n",
       "       0.51183877, 0.84741417, 0.24222459, 0.76527028, 0.02939472,\n",
       "       0.81108784])"
      ]
     },
     "execution_count": 58,
     "metadata": {},
     "output_type": "execute_result"
    }
   ],
   "source": [
    "a"
   ]
  },
  {
   "cell_type": "code",
   "execution_count": 59,
   "id": "9a2ea48d",
   "metadata": {},
   "outputs": [
    {
     "data": {
      "text/plain": [
       "1"
      ]
     },
     "execution_count": 59,
     "metadata": {},
     "output_type": "execute_result"
    }
   ],
   "source": [
    "a.ndim"
   ]
  },
  {
   "cell_type": "code",
   "execution_count": 60,
   "id": "f47fafce",
   "metadata": {},
   "outputs": [
    {
     "data": {
      "text/plain": [
       "(16,)"
      ]
     },
     "execution_count": 60,
     "metadata": {},
     "output_type": "execute_result"
    }
   ],
   "source": [
    "a.shape"
   ]
  },
  {
   "cell_type": "code",
   "execution_count": 61,
   "id": "577cf967",
   "metadata": {},
   "outputs": [],
   "source": [
    "# lets change to 2D\n",
    "a.resize((4,4))"
   ]
  },
  {
   "cell_type": "code",
   "execution_count": 62,
   "id": "eb1e6530",
   "metadata": {},
   "outputs": [
    {
     "data": {
      "text/plain": [
       "array([[0.66266789, 0.38666235, 0.88074993, 0.81624037],\n",
       "       [0.72697742, 0.48106905, 0.72694264, 0.83866852],\n",
       "       [0.23253555, 0.99409775, 0.51183877, 0.84741417],\n",
       "       [0.24222459, 0.76527028, 0.02939472, 0.81108784]])"
      ]
     },
     "execution_count": 62,
     "metadata": {},
     "output_type": "execute_result"
    }
   ],
   "source": [
    "a"
   ]
  },
  {
   "cell_type": "code",
   "execution_count": 63,
   "id": "ddc0f68d",
   "metadata": {},
   "outputs": [
    {
     "data": {
      "text/plain": [
       "(4, 4)"
      ]
     },
     "execution_count": 63,
     "metadata": {},
     "output_type": "execute_result"
    }
   ],
   "source": [
    "a.shape"
   ]
  },
  {
   "cell_type": "code",
   "execution_count": 64,
   "id": "8ccce464",
   "metadata": {},
   "outputs": [],
   "source": [
    "#Lets change to 3D\n",
    "a.resize(4,2,2)"
   ]
  },
  {
   "cell_type": "code",
   "execution_count": 65,
   "id": "9cad744e",
   "metadata": {},
   "outputs": [
    {
     "data": {
      "text/plain": [
       "array([[[0.66266789, 0.38666235],\n",
       "        [0.88074993, 0.81624037]],\n",
       "\n",
       "       [[0.72697742, 0.48106905],\n",
       "        [0.72694264, 0.83866852]],\n",
       "\n",
       "       [[0.23253555, 0.99409775],\n",
       "        [0.51183877, 0.84741417]],\n",
       "\n",
       "       [[0.24222459, 0.76527028],\n",
       "        [0.02939472, 0.81108784]]])"
      ]
     },
     "execution_count": 65,
     "metadata": {},
     "output_type": "execute_result"
    }
   ],
   "source": [
    "a"
   ]
  },
  {
   "cell_type": "code",
   "execution_count": 66,
   "id": "bd8f2460",
   "metadata": {},
   "outputs": [
    {
     "data": {
      "text/plain": [
       "3"
      ]
     },
     "execution_count": 66,
     "metadata": {},
     "output_type": "execute_result"
    }
   ],
   "source": [
    "a.ndim"
   ]
  },
  {
   "cell_type": "code",
   "execution_count": 67,
   "id": "53b30849",
   "metadata": {},
   "outputs": [
    {
     "data": {
      "text/plain": [
       "(4, 2, 2)"
      ]
     },
     "execution_count": 67,
     "metadata": {},
     "output_type": "execute_result"
    }
   ],
   "source": [
    "a.shape"
   ]
  },
  {
   "cell_type": "code",
   "execution_count": 68,
   "id": "17be2d0d",
   "metadata": {},
   "outputs": [],
   "source": [
    "a.shape=(2,8)"
   ]
  },
  {
   "cell_type": "code",
   "execution_count": 69,
   "id": "04fe0f8e",
   "metadata": {},
   "outputs": [
    {
     "data": {
      "text/plain": [
       "array([[0.66266789, 0.38666235, 0.88074993, 0.81624037, 0.72697742,\n",
       "        0.48106905, 0.72694264, 0.83866852],\n",
       "       [0.23253555, 0.99409775, 0.51183877, 0.84741417, 0.24222459,\n",
       "        0.76527028, 0.02939472, 0.81108784]])"
      ]
     },
     "execution_count": 69,
     "metadata": {},
     "output_type": "execute_result"
    }
   ],
   "source": [
    "a"
   ]
  },
  {
   "cell_type": "code",
   "execution_count": 70,
   "id": "03ce4266",
   "metadata": {},
   "outputs": [
    {
     "data": {
      "text/plain": [
       "(2, 8)"
      ]
     },
     "execution_count": 70,
     "metadata": {},
     "output_type": "execute_result"
    }
   ],
   "source": [
    "a.shape"
   ]
  },
  {
   "cell_type": "code",
   "execution_count": 71,
   "id": "5ecb8015",
   "metadata": {},
   "outputs": [
    {
     "data": {
      "text/plain": [
       "16"
      ]
     },
     "execution_count": 71,
     "metadata": {},
     "output_type": "execute_result"
    }
   ],
   "source": [
    "a.size"
   ]
  },
  {
   "cell_type": "code",
   "execution_count": 72,
   "id": "1a4a2500",
   "metadata": {},
   "outputs": [],
   "source": [
    "x=np.array([1,2,3,4,5])"
   ]
  },
  {
   "cell_type": "code",
   "execution_count": 73,
   "id": "4ded8279",
   "metadata": {},
   "outputs": [
    {
     "data": {
      "text/plain": [
       "array([1, 2, 3, 4, 5])"
      ]
     },
     "execution_count": 73,
     "metadata": {},
     "output_type": "execute_result"
    }
   ],
   "source": [
    "x"
   ]
  },
  {
   "cell_type": "code",
   "execution_count": 74,
   "id": "0030c21d",
   "metadata": {},
   "outputs": [
    {
     "data": {
      "text/plain": [
       "dtype('int32')"
      ]
     },
     "execution_count": 74,
     "metadata": {},
     "output_type": "execute_result"
    }
   ],
   "source": [
    "x.dtype"
   ]
  },
  {
   "cell_type": "code",
   "execution_count": 75,
   "id": "9df3d025",
   "metadata": {},
   "outputs": [
    {
     "data": {
      "text/plain": [
       "124"
      ]
     },
     "execution_count": 75,
     "metadata": {},
     "output_type": "execute_result"
    }
   ],
   "source": [
    "x.__sizeof__()"
   ]
  },
  {
   "cell_type": "code",
   "execution_count": 77,
   "id": "fe4eb80d",
   "metadata": {},
   "outputs": [
    {
     "data": {
      "text/plain": [
       "array([1, 2, 3, 4, 5], dtype=object)"
      ]
     },
     "execution_count": 77,
     "metadata": {},
     "output_type": "execute_result"
    }
   ],
   "source": [
    "y=np.array([1,2,3,4,5],dtype=object)\n",
    "y"
   ]
  },
  {
   "cell_type": "code",
   "execution_count": 78,
   "id": "c2a45532",
   "metadata": {},
   "outputs": [
    {
     "data": {
      "text/plain": [
       "144"
      ]
     },
     "execution_count": 78,
     "metadata": {},
     "output_type": "execute_result"
    }
   ],
   "source": [
    "y.__sizeof__()"
   ]
  },
  {
   "cell_type": "markdown",
   "id": "069c3b02",
   "metadata": {},
   "source": [
    "# transpose: convert row to column and viceversa"
   ]
  },
  {
   "cell_type": "code",
   "execution_count": 79,
   "id": "a97de94b",
   "metadata": {},
   "outputs": [
    {
     "data": {
      "text/plain": [
       "array([[0.66266789, 0.38666235, 0.88074993, 0.81624037, 0.72697742,\n",
       "        0.48106905, 0.72694264, 0.83866852],\n",
       "       [0.23253555, 0.99409775, 0.51183877, 0.84741417, 0.24222459,\n",
       "        0.76527028, 0.02939472, 0.81108784]])"
      ]
     },
     "execution_count": 79,
     "metadata": {},
     "output_type": "execute_result"
    }
   ],
   "source": [
    "a"
   ]
  },
  {
   "cell_type": "code",
   "execution_count": 80,
   "id": "c865bb6f",
   "metadata": {},
   "outputs": [
    {
     "data": {
      "text/plain": [
       "(2, 8)"
      ]
     },
     "execution_count": 80,
     "metadata": {},
     "output_type": "execute_result"
    }
   ],
   "source": [
    "a.shape"
   ]
  },
  {
   "cell_type": "code",
   "execution_count": 81,
   "id": "c0bb20f8",
   "metadata": {},
   "outputs": [
    {
     "data": {
      "text/plain": [
       "array([[0.66266789, 0.23253555],\n",
       "       [0.38666235, 0.99409775],\n",
       "       [0.88074993, 0.51183877],\n",
       "       [0.81624037, 0.84741417],\n",
       "       [0.72697742, 0.24222459],\n",
       "       [0.48106905, 0.76527028],\n",
       "       [0.72694264, 0.02939472],\n",
       "       [0.83866852, 0.81108784]])"
      ]
     },
     "execution_count": 81,
     "metadata": {},
     "output_type": "execute_result"
    }
   ],
   "source": [
    "a.transpose()   #changes are temp."
   ]
  },
  {
   "cell_type": "code",
   "execution_count": 82,
   "id": "903297c2",
   "metadata": {},
   "outputs": [
    {
     "data": {
      "text/plain": [
       "array([[0.66266789, 0.23253555],\n",
       "       [0.38666235, 0.99409775],\n",
       "       [0.88074993, 0.51183877],\n",
       "       [0.81624037, 0.84741417],\n",
       "       [0.72697742, 0.24222459],\n",
       "       [0.48106905, 0.76527028],\n",
       "       [0.72694264, 0.02939472],\n",
       "       [0.83866852, 0.81108784]])"
      ]
     },
     "execution_count": 82,
     "metadata": {},
     "output_type": "execute_result"
    }
   ],
   "source": [
    "a.T"
   ]
  },
  {
   "cell_type": "code",
   "execution_count": 83,
   "id": "3897b919",
   "metadata": {},
   "outputs": [
    {
     "data": {
      "text/plain": [
       "array([[0.66266789, 0.23253555],\n",
       "       [0.38666235, 0.99409775],\n",
       "       [0.88074993, 0.51183877],\n",
       "       [0.81624037, 0.84741417],\n",
       "       [0.72697742, 0.24222459],\n",
       "       [0.48106905, 0.76527028],\n",
       "       [0.72694264, 0.02939472],\n",
       "       [0.83866852, 0.81108784]])"
      ]
     },
     "execution_count": 83,
     "metadata": {},
     "output_type": "execute_result"
    }
   ],
   "source": [
    "np.transpose(a)"
   ]
  },
  {
   "cell_type": "markdown",
   "id": "502d35c1",
   "metadata": {},
   "source": [
    "# Indexing over numpy"
   ]
  },
  {
   "cell_type": "code",
   "execution_count": 85,
   "id": "bb273c1c",
   "metadata": {},
   "outputs": [
    {
     "data": {
      "text/plain": [
       "array([[ 1,  2,  3,  4],\n",
       "       [ 5,  6,  7,  8],\n",
       "       [ 9, 10, 11, 12],\n",
       "       [13, 14, 15, 16],\n",
       "       [17, 18, 19, 20],\n",
       "       [21, 22, 23, 24]])"
      ]
     },
     "execution_count": 85,
     "metadata": {},
     "output_type": "execute_result"
    }
   ],
   "source": [
    "b=np.arange(1,25).reshape(6,4)\n",
    "b"
   ]
  },
  {
   "cell_type": "code",
   "execution_count": 1,
   "id": "962ffdee",
   "metadata": {},
   "outputs": [],
   "source": [
    "# [[ 1,  2,  3,  4],[ 5,  6,  7,  8],[ 9, 10, 11, 12],[13, 14, 15, 16],[17, 18, 19, 20],[21, 22, 23, 24]]"
   ]
  },
  {
   "cell_type": "code",
   "execution_count": 87,
   "id": "f0d8db20",
   "metadata": {},
   "outputs": [
    {
     "data": {
      "text/plain": [
       "array([1, 2, 3, 4])"
      ]
     },
     "execution_count": 87,
     "metadata": {},
     "output_type": "execute_result"
    }
   ],
   "source": [
    "# indexing in numpy works on rows\n",
    "b[0]"
   ]
  },
  {
   "cell_type": "code",
   "execution_count": 89,
   "id": "635eb0e5",
   "metadata": {},
   "outputs": [
    {
     "data": {
      "text/plain": [
       "array([17, 18, 19, 20])"
      ]
     },
     "execution_count": 89,
     "metadata": {},
     "output_type": "execute_result"
    }
   ],
   "source": [
    "b[4]"
   ]
  },
  {
   "cell_type": "code",
   "execution_count": 90,
   "id": "ebd08c23",
   "metadata": {},
   "outputs": [
    {
     "data": {
      "text/plain": [
       "array([ 9, 10, 11, 12])"
      ]
     },
     "execution_count": 90,
     "metadata": {},
     "output_type": "execute_result"
    }
   ],
   "source": [
    "#access 11\n",
    "b[2]"
   ]
  },
  {
   "cell_type": "code",
   "execution_count": 91,
   "id": "b2fb1104",
   "metadata": {},
   "outputs": [
    {
     "data": {
      "text/plain": [
       "11"
      ]
     },
     "execution_count": 91,
     "metadata": {},
     "output_type": "execute_result"
    }
   ],
   "source": [
    "b[2,2]"
   ]
  },
  {
   "cell_type": "code",
   "execution_count": 92,
   "id": "be96c4a9",
   "metadata": {},
   "outputs": [
    {
     "data": {
      "text/plain": [
       "20"
      ]
     },
     "execution_count": 92,
     "metadata": {},
     "output_type": "execute_result"
    }
   ],
   "source": [
    "#acess 20\n",
    "b[4,3]"
   ]
  },
  {
   "cell_type": "code",
   "execution_count": 93,
   "id": "92cfaa1c",
   "metadata": {},
   "outputs": [
    {
     "data": {
      "text/plain": [
       "6"
      ]
     },
     "execution_count": 93,
     "metadata": {},
     "output_type": "execute_result"
    }
   ],
   "source": [
    "#access 6\n",
    "b[1,1]"
   ]
  },
  {
   "cell_type": "code",
   "execution_count": 97,
   "id": "23901ea6",
   "metadata": {},
   "outputs": [
    {
     "data": {
      "text/plain": [
       "21"
      ]
     },
     "execution_count": 97,
     "metadata": {},
     "output_type": "execute_result"
    }
   ],
   "source": [
    "#acess 21\n",
    "b[5,0]"
   ]
  },
  {
   "cell_type": "code",
   "execution_count": 98,
   "id": "eeb9ed03",
   "metadata": {},
   "outputs": [],
   "source": [
    "c=b.reshape(3,4,2)"
   ]
  },
  {
   "cell_type": "code",
   "execution_count": 99,
   "id": "237e1499",
   "metadata": {},
   "outputs": [
    {
     "data": {
      "text/plain": [
       "array([[[ 1,  2],\n",
       "        [ 3,  4],\n",
       "        [ 5,  6],\n",
       "        [ 7,  8]],\n",
       "\n",
       "       [[ 9, 10],\n",
       "        [11, 12],\n",
       "        [13, 14],\n",
       "        [15, 16]],\n",
       "\n",
       "       [[17, 18],\n",
       "        [19, 20],\n",
       "        [21, 22],\n",
       "        [23, 24]]])"
      ]
     },
     "execution_count": 99,
     "metadata": {},
     "output_type": "execute_result"
    }
   ],
   "source": [
    "c"
   ]
  },
  {
   "cell_type": "code",
   "execution_count": 100,
   "id": "48945e92",
   "metadata": {},
   "outputs": [
    {
     "data": {
      "text/plain": [
       "18"
      ]
     },
     "execution_count": 100,
     "metadata": {},
     "output_type": "execute_result"
    }
   ],
   "source": [
    "#acess 18\n",
    "c[2,0,1]"
   ]
  },
  {
   "cell_type": "code",
   "execution_count": 102,
   "id": "440c8d1d",
   "metadata": {},
   "outputs": [
    {
     "data": {
      "text/plain": [
       "19"
      ]
     },
     "execution_count": 102,
     "metadata": {},
     "output_type": "execute_result"
    }
   ],
   "source": [
    "#acess 19\n",
    "c[2,1,0]"
   ]
  },
  {
   "cell_type": "code",
   "execution_count": 103,
   "id": "a4b94a1c",
   "metadata": {},
   "outputs": [
    {
     "data": {
      "text/plain": [
       "15"
      ]
     },
     "execution_count": 103,
     "metadata": {},
     "output_type": "execute_result"
    }
   ],
   "source": [
    "#acess 15\n",
    "c[1,3,0]"
   ]
  },
  {
   "cell_type": "code",
   "execution_count": 104,
   "id": "c02024a3",
   "metadata": {},
   "outputs": [
    {
     "data": {
      "text/plain": [
       "array([[ 9, 10],\n",
       "       [11, 12],\n",
       "       [13, 14],\n",
       "       [15, 16]])"
      ]
     },
     "execution_count": 104,
     "metadata": {},
     "output_type": "execute_result"
    }
   ],
   "source": [
    "# is _ve indexing is posible???\n",
    "c[-2]"
   ]
  },
  {
   "cell_type": "code",
   "execution_count": 105,
   "id": "d039281e",
   "metadata": {},
   "outputs": [
    {
     "data": {
      "text/plain": [
       "array([[1, 2],\n",
       "       [3, 4],\n",
       "       [5, 6],\n",
       "       [7, 8]])"
      ]
     },
     "execution_count": 105,
     "metadata": {},
     "output_type": "execute_result"
    }
   ],
   "source": [
    "c[-3] #-ve indexing is allowed"
   ]
  },
  {
   "cell_type": "markdown",
   "id": "fa53b691",
   "metadata": {},
   "source": [
    "# slicing"
   ]
  },
  {
   "cell_type": "code",
   "execution_count": 106,
   "id": "b1b72c04",
   "metadata": {},
   "outputs": [
    {
     "data": {
      "text/plain": [
       "array([[ 1,  2,  3,  4],\n",
       "       [ 5,  6,  7,  8],\n",
       "       [ 9, 10, 11, 12],\n",
       "       [13, 14, 15, 16],\n",
       "       [17, 18, 19, 20],\n",
       "       [21, 22, 23, 24]])"
      ]
     },
     "execution_count": 106,
     "metadata": {},
     "output_type": "execute_result"
    }
   ],
   "source": [
    "b"
   ]
  },
  {
   "cell_type": "code",
   "execution_count": 107,
   "id": "e0ae7efb",
   "metadata": {},
   "outputs": [
    {
     "data": {
      "text/plain": [
       "array([[ 1,  2,  3,  4],\n",
       "       [ 5,  6,  7,  8],\n",
       "       [ 9, 10, 11, 12],\n",
       "       [13, 14, 15, 16],\n",
       "       [17, 18, 19, 20],\n",
       "       [21, 22, 23, 24]])"
      ]
     },
     "execution_count": 107,
     "metadata": {},
     "output_type": "execute_result"
    }
   ],
   "source": [
    "#slicing works on rows first\n",
    "b[:] #[start:Stop] row"
   ]
  },
  {
   "cell_type": "code",
   "execution_count": 108,
   "id": "b99be64a",
   "metadata": {},
   "outputs": [
    {
     "data": {
      "text/plain": [
       "array([[ 9, 10, 11, 12],\n",
       "       [13, 14, 15, 16],\n",
       "       [17, 18, 19, 20],\n",
       "       [21, 22, 23, 24]])"
      ]
     },
     "execution_count": 108,
     "metadata": {},
     "output_type": "execute_result"
    }
   ],
   "source": [
    "#last 4 rows\n",
    "b[2:]"
   ]
  },
  {
   "cell_type": "code",
   "execution_count": 109,
   "id": "e7779484",
   "metadata": {},
   "outputs": [
    {
     "data": {
      "text/plain": [
       "array([[ 9, 10, 11, 12],\n",
       "       [13, 14, 15, 16]])"
      ]
     },
     "execution_count": 109,
     "metadata": {},
     "output_type": "execute_result"
    }
   ],
   "source": [
    "\"\"\"\n",
    "[ 9, 10, 11, 12],\n",
    "[13, 14, 15, 16],\n",
    "\"\"\"\n",
    "b[2:4]"
   ]
  },
  {
   "cell_type": "code",
   "execution_count": 112,
   "id": "8ed1653b",
   "metadata": {},
   "outputs": [
    {
     "data": {
      "text/plain": [
       "array([[ 1,  2,  3,  4],\n",
       "       [ 9, 10, 11, 12],\n",
       "       [17, 18, 19, 20]])"
      ]
     },
     "execution_count": 112,
     "metadata": {},
     "output_type": "execute_result"
    }
   ],
   "source": [
    "\"\"\"\n",
    "[ 1,  2,  3,  4]\n",
    "[ 9, 10, 11, 12]\n",
    "[17, 18, 19, 20]\n",
    "\"\"\"\n",
    "b[::2]"
   ]
  },
  {
   "cell_type": "code",
   "execution_count": 113,
   "id": "344a7db4",
   "metadata": {},
   "outputs": [
    {
     "data": {
      "text/plain": [
       "array([[ 1,  2,  3,  4],\n",
       "       [21, 22, 23, 24]])"
      ]
     },
     "execution_count": 113,
     "metadata": {},
     "output_type": "execute_result"
    }
   ],
   "source": [
    "#access first and last row\n",
    "b[::5]"
   ]
  },
  {
   "cell_type": "code",
   "execution_count": 114,
   "id": "3f04f6e8",
   "metadata": {},
   "outputs": [
    {
     "data": {
      "text/plain": [
       "array([[13, 14, 15, 16],\n",
       "       [21, 22, 23, 24]])"
      ]
     },
     "execution_count": 114,
     "metadata": {},
     "output_type": "execute_result"
    }
   ],
   "source": [
    "# row 13 and 21\n",
    "# Rule: If we want to skip one(n) row then step by 2(n+1)\n",
    "b[3::2]"
   ]
  },
  {
   "cell_type": "code",
   "execution_count": 116,
   "id": "db371868",
   "metadata": {},
   "outputs": [
    {
     "data": {
      "text/plain": [
       "array([[21, 22, 23, 24],\n",
       "       [13, 14, 15, 16],\n",
       "       [ 5,  6,  7,  8]])"
      ]
     },
     "execution_count": 116,
     "metadata": {},
     "output_type": "execute_result"
    }
   ],
   "source": [
    "# row 21 13 5\n",
    "b[-1::-2]"
   ]
  },
  {
   "cell_type": "code",
   "execution_count": 117,
   "id": "e6268009",
   "metadata": {},
   "outputs": [],
   "source": [
    "# b[start:stop]\n",
    "# b[start_index:stop_index:step]\n",
    "#b[::,::] {row,column}"
   ]
  },
  {
   "cell_type": "code",
   "execution_count": 118,
   "id": "1c2695fa",
   "metadata": {},
   "outputs": [
    {
     "data": {
      "text/plain": [
       "array([[ 1,  2,  3,  4],\n",
       "       [ 5,  6,  7,  8],\n",
       "       [ 9, 10, 11, 12],\n",
       "       [13, 14, 15, 16],\n",
       "       [17, 18, 19, 20],\n",
       "       [21, 22, 23, 24]])"
      ]
     },
     "execution_count": 118,
     "metadata": {},
     "output_type": "execute_result"
    }
   ],
   "source": [
    "b"
   ]
  },
  {
   "cell_type": "code",
   "execution_count": 119,
   "id": "1cfb524a",
   "metadata": {},
   "outputs": [
    {
     "data": {
      "text/plain": [
       "array([[10, 11],\n",
       "       [14, 15]])"
      ]
     },
     "execution_count": 119,
     "metadata": {},
     "output_type": "execute_result"
    }
   ],
   "source": [
    "\"\"\"\n",
    "10,11\n",
    "14,15\n",
    "\"\"\"\n",
    "b[2:4,1:3]\n"
   ]
  },
  {
   "cell_type": "code",
   "execution_count": 120,
   "id": "9f229048",
   "metadata": {},
   "outputs": [
    {
     "data": {
      "text/plain": [
       "array([[1, 2],\n",
       "       [5, 6]])"
      ]
     },
     "execution_count": 120,
     "metadata": {},
     "output_type": "execute_result"
    }
   ],
   "source": [
    "\"\"\"\n",
    "[ 1,  2]\n",
    "[5,  6]\n",
    "\"\"\"\n",
    "b[:2,:2]"
   ]
  },
  {
   "cell_type": "code",
   "execution_count": 123,
   "id": "c0ed1a75",
   "metadata": {},
   "outputs": [
    {
     "data": {
      "text/plain": [
       "array([[ 7,  8],\n",
       "       [19, 20]])"
      ]
     },
     "execution_count": 123,
     "metadata": {},
     "output_type": "execute_result"
    }
   ],
   "source": [
    "# 7,  8\n",
    "# 19, 20\n",
    "b[1::3,2:]"
   ]
  },
  {
   "cell_type": "code",
   "execution_count": 124,
   "id": "daa57efc",
   "metadata": {},
   "outputs": [
    {
     "data": {
      "text/plain": [
       "array([[21, 22, 23, 24],\n",
       "       [17, 18, 19, 20],\n",
       "       [13, 14, 15, 16],\n",
       "       [ 9, 10, 11, 12],\n",
       "       [ 5,  6,  7,  8],\n",
       "       [ 1,  2,  3,  4]])"
      ]
     },
     "execution_count": 124,
     "metadata": {},
     "output_type": "execute_result"
    }
   ],
   "source": [
    "b[::-1]"
   ]
  },
  {
   "cell_type": "code",
   "execution_count": 125,
   "id": "ed611ccd",
   "metadata": {},
   "outputs": [
    {
     "data": {
      "text/plain": [
       "array([[ 4],\n",
       "       [ 8],\n",
       "       [12],\n",
       "       [16],\n",
       "       [20],\n",
       "       [24]])"
      ]
     },
     "execution_count": 125,
     "metadata": {},
     "output_type": "execute_result"
    }
   ],
   "source": [
    "#access last column starting with  4\n",
    "b[:,-1:]"
   ]
  },
  {
   "cell_type": "code",
   "execution_count": 126,
   "id": "d0481597",
   "metadata": {},
   "outputs": [
    {
     "data": {
      "text/plain": [
       "array([[ 4],\n",
       "       [ 8],\n",
       "       [12],\n",
       "       [16],\n",
       "       [20],\n",
       "       [24]])"
      ]
     },
     "execution_count": 126,
     "metadata": {},
     "output_type": "execute_result"
    }
   ],
   "source": [
    "#access last column starting with  4\n",
    "b[:,3:]"
   ]
  },
  {
   "cell_type": "code",
   "execution_count": 127,
   "id": "404957fb",
   "metadata": {},
   "outputs": [
    {
     "data": {
      "text/plain": [
       "array([[ 1,  2,  3,  4],\n",
       "       [ 5,  6,  7,  8],\n",
       "       [ 9, 10, 11, 12],\n",
       "       [13, 14, 15, 16],\n",
       "       [17, 18, 19, 20],\n",
       "       [21, 22, 23, 24]])"
      ]
     },
     "execution_count": 127,
     "metadata": {},
     "output_type": "execute_result"
    }
   ],
   "source": [
    "#fetch corner elements\n",
    "# 1,4,21,24\n",
    "b"
   ]
  },
  {
   "cell_type": "code",
   "execution_count": 128,
   "id": "da4b25b2",
   "metadata": {},
   "outputs": [
    {
     "data": {
      "text/plain": [
       "(6, 4)"
      ]
     },
     "execution_count": 128,
     "metadata": {},
     "output_type": "execute_result"
    }
   ],
   "source": [
    "#check shape\n",
    "b.shape"
   ]
  },
  {
   "cell_type": "code",
   "execution_count": 129,
   "id": "a404c8d4",
   "metadata": {},
   "outputs": [
    {
     "data": {
      "text/plain": [
       "array([[ 1,  4],\n",
       "       [21, 24]])"
      ]
     },
     "execution_count": 129,
     "metadata": {},
     "output_type": "execute_result"
    }
   ],
   "source": [
    "b[::5,::3]"
   ]
  },
  {
   "cell_type": "code",
   "execution_count": 130,
   "id": "df951195",
   "metadata": {},
   "outputs": [
    {
     "data": {
      "text/plain": [
       "array([[19, 20],\n",
       "       [23, 24]])"
      ]
     },
     "execution_count": 130,
     "metadata": {},
     "output_type": "execute_result"
    }
   ],
   "source": [
    "# 19,20\n",
    "# 23,24\n",
    "b[4:,2:]"
   ]
  },
  {
   "cell_type": "code",
   "execution_count": 132,
   "id": "eafba756",
   "metadata": {},
   "outputs": [
    {
     "data": {
      "text/plain": [
       "array([[ 2,  3],\n",
       "       [ 6,  7],\n",
       "       [10, 11],\n",
       "       [14, 15],\n",
       "       [18, 19],\n",
       "       [22, 23]])"
      ]
     },
     "execution_count": 132,
     "metadata": {},
     "output_type": "execute_result"
    }
   ],
   "source": [
    "#access middle 2 columns\n",
    "b[::,1:3]"
   ]
  },
  {
   "cell_type": "code",
   "execution_count": 133,
   "id": "44cdd911",
   "metadata": {},
   "outputs": [
    {
     "data": {
      "text/plain": [
       "array([[ 1,  2,  3,  4],\n",
       "       [ 5,  6,  7,  8],\n",
       "       [ 9, 10, 11, 12],\n",
       "       [13, 14, 15, 16],\n",
       "       [17, 18, 19, 20],\n",
       "       [21, 22, 23, 24]])"
      ]
     },
     "execution_count": 133,
     "metadata": {},
     "output_type": "execute_result"
    }
   ],
   "source": [
    "b"
   ]
  },
  {
   "cell_type": "code",
   "execution_count": 134,
   "id": "7d192079",
   "metadata": {},
   "outputs": [
    {
     "data": {
      "text/plain": [
       "[[1, 2, 3, 4], [5, 6, 7, 8], [13, 14, 15, 16], [21, 22, 23, 24]]"
      ]
     },
     "execution_count": 134,
     "metadata": {},
     "output_type": "execute_result"
    }
   ],
   "source": [
    "[[ 1,  2,  3,  4],\n",
    "[ 5,  6,  7,  8],\n",
    "[13, 14, 15, 16],\n",
    "[21, 22, 23, 24]]"
   ]
  },
  {
   "cell_type": "code",
   "execution_count": 140,
   "id": "407578b8",
   "metadata": {},
   "outputs": [
    {
     "data": {
      "text/plain": [
       "array([[ 1,  2,  3,  4],\n",
       "       [ 5,  6,  7,  8],\n",
       "       [13, 14, 15, 16],\n",
       "       [21, 22, 23, 24]])"
      ]
     },
     "execution_count": 140,
     "metadata": {},
     "output_type": "execute_result"
    }
   ],
   "source": [
    "[[ 1,  2,  3,  4],\n",
    "[ 5,  6,  7,  8],\n",
    "[13, 14, 15, 16],\n",
    "[21, 22, 23, 24]]\n",
    "b[[0,1,3,5]]"
   ]
  },
  {
   "cell_type": "code",
   "execution_count": 144,
   "id": "0ea7ae59",
   "metadata": {},
   "outputs": [
    {
     "data": {
      "text/plain": [
       "array([[1, 2, 3, 4],\n",
       "       [5, 6, 7, 8]])"
      ]
     },
     "execution_count": 144,
     "metadata": {},
     "output_type": "execute_result"
    }
   ],
   "source": [
    "[[ 1,  2,  3,  4],\n",
    "[ 5,  6,  7,  8]]\n",
    "b[[0,1]]"
   ]
  },
  {
   "cell_type": "code",
   "execution_count": 145,
   "id": "5afdcdbf",
   "metadata": {},
   "outputs": [
    {
     "data": {
      "text/plain": [
       "array([[1, 2, 3, 4],\n",
       "       [5, 6, 7, 8]])"
      ]
     },
     "execution_count": 145,
     "metadata": {},
     "output_type": "execute_result"
    }
   ],
   "source": [
    "[[ 1,  2,  3,  4],\n",
    "[ 5,  6,  7,  8]]\n",
    "b[:2]"
   ]
  },
  {
   "cell_type": "code",
   "execution_count": 146,
   "id": "03543946",
   "metadata": {},
   "outputs": [
    {
     "data": {
      "text/plain": [
       "array([[1, 2, 3, 4],\n",
       "       [5, 6, 7, 8]])"
      ]
     },
     "execution_count": 146,
     "metadata": {},
     "output_type": "execute_result"
    }
   ],
   "source": [
    "[[ 1,  2,  3,  4],\n",
    "[ 5,  6,  7,  8]]\n",
    "b[:2]"
   ]
  }
 ],
 "metadata": {
  "kernelspec": {
   "display_name": "Python 3 (ipykernel)",
   "language": "python",
   "name": "python3"
  },
  "language_info": {
   "codemirror_mode": {
    "name": "ipython",
    "version": 3
   },
   "file_extension": ".py",
   "mimetype": "text/x-python",
   "name": "python",
   "nbconvert_exporter": "python",
   "pygments_lexer": "ipython3",
   "version": "3.9.13"
  }
 },
 "nbformat": 4,
 "nbformat_minor": 5
}
