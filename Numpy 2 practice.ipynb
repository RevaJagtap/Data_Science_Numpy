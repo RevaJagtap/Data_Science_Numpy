{
 "cells": [
  {
   "cell_type": "markdown",
   "id": "afd06329",
   "metadata": {},
   "source": [
    "# Numpy array creation"
   ]
  },
  {
   "cell_type": "code",
   "execution_count": 1,
   "id": "e6612375",
   "metadata": {},
   "outputs": [],
   "source": [
    "import numpy as np"
   ]
  },
  {
   "cell_type": "markdown",
   "id": "947410da",
   "metadata": {},
   "source": [
    "# arange"
   ]
  },
  {
   "cell_type": "code",
   "execution_count": 2,
   "id": "581477ba",
   "metadata": {},
   "outputs": [
    {
     "data": {
      "text/plain": [
       "array([0, 1, 2, 3, 4, 5])"
      ]
     },
     "execution_count": 2,
     "metadata": {},
     "output_type": "execute_result"
    }
   ],
   "source": [
    "np.arange(6)\n",
    "# starts from 0 and stop at num-1"
   ]
  },
  {
   "cell_type": "code",
   "execution_count": 3,
   "id": "7c374b21",
   "metadata": {},
   "outputs": [
    {
     "data": {
      "text/plain": [
       "array([ 1,  2,  3,  4,  5,  6,  7,  8,  9, 10, 11])"
      ]
     },
     "execution_count": 3,
     "metadata": {},
     "output_type": "execute_result"
    }
   ],
   "source": [
    "np.arange(1,12)"
   ]
  },
  {
   "cell_type": "code",
   "execution_count": 4,
   "id": "bbfca320",
   "metadata": {},
   "outputs": [
    {
     "data": {
      "text/plain": [
       "array([1, 3, 5, 7, 9])"
      ]
     },
     "execution_count": 4,
     "metadata": {},
     "output_type": "execute_result"
    }
   ],
   "source": [
    "np.arange(1,10,2)  #stepping"
   ]
  },
  {
   "cell_type": "markdown",
   "id": "a9a6bddd",
   "metadata": {},
   "source": [
    "# Zeros(): Array with all zeros"
   ]
  },
  {
   "cell_type": "code",
   "execution_count": 5,
   "id": "46b959f6",
   "metadata": {},
   "outputs": [
    {
     "data": {
      "text/plain": [
       "array([0., 0., 0., 0., 0.])"
      ]
     },
     "execution_count": 5,
     "metadata": {},
     "output_type": "execute_result"
    }
   ],
   "source": [
    "\"\"\"\n",
    "eros(shape, dtype=float, order='C', *, like=None)\n",
    "\n",
    "Return a new array of given shape and type, filled with zeros.\n",
    "\"\"\"\n",
    "np.zeros(5)"
   ]
  },
  {
   "cell_type": "code",
   "execution_count": 7,
   "id": "fd32da17",
   "metadata": {},
   "outputs": [
    {
     "data": {
      "text/plain": [
       "array([[0., 0., 0., 0.],\n",
       "       [0., 0., 0., 0.],\n",
       "       [0., 0., 0., 0.]])"
      ]
     },
     "execution_count": 7,
     "metadata": {},
     "output_type": "execute_result"
    }
   ],
   "source": [
    "#2D array\n",
    "np.zeros((3,4))"
   ]
  },
  {
   "cell_type": "code",
   "execution_count": 9,
   "id": "1f160d4c",
   "metadata": {},
   "outputs": [
    {
     "data": {
      "text/plain": [
       "array([[[0., 0., 0., 0., 0., 0.],\n",
       "        [0., 0., 0., 0., 0., 0.],\n",
       "        [0., 0., 0., 0., 0., 0.],\n",
       "        [0., 0., 0., 0., 0., 0.],\n",
       "        [0., 0., 0., 0., 0., 0.]],\n",
       "\n",
       "       [[0., 0., 0., 0., 0., 0.],\n",
       "        [0., 0., 0., 0., 0., 0.],\n",
       "        [0., 0., 0., 0., 0., 0.],\n",
       "        [0., 0., 0., 0., 0., 0.],\n",
       "        [0., 0., 0., 0., 0., 0.]],\n",
       "\n",
       "       [[0., 0., 0., 0., 0., 0.],\n",
       "        [0., 0., 0., 0., 0., 0.],\n",
       "        [0., 0., 0., 0., 0., 0.],\n",
       "        [0., 0., 0., 0., 0., 0.],\n",
       "        [0., 0., 0., 0., 0., 0.]]])"
      ]
     },
     "execution_count": 9,
     "metadata": {},
     "output_type": "execute_result"
    }
   ],
   "source": [
    "#3D array\n",
    "np.zeros((3,5,6))"
   ]
  },
  {
   "cell_type": "code",
   "execution_count": 11,
   "id": "a2b5c45f",
   "metadata": {},
   "outputs": [
    {
     "data": {
      "text/plain": [
       "array([[0, 0],\n",
       "       [0, 0],\n",
       "       [0, 0]])"
      ]
     },
     "execution_count": 11,
     "metadata": {},
     "output_type": "execute_result"
    }
   ],
   "source": [
    "# if i want int zero then\n",
    "np.zeros((3,2),dtype=int)"
   ]
  },
  {
   "cell_type": "code",
   "execution_count": 12,
   "id": "a97a7e12",
   "metadata": {},
   "outputs": [
    {
     "data": {
      "text/plain": [
       "array([[[0, 0, 0],\n",
       "        [0, 0, 0]],\n",
       "\n",
       "       [[0, 0, 0],\n",
       "        [0, 0, 0]],\n",
       "\n",
       "       [[0, 0, 0],\n",
       "        [0, 0, 0]],\n",
       "\n",
       "       [[0, 0, 0],\n",
       "        [0, 0, 0]]])"
      ]
     },
     "execution_count": 12,
     "metadata": {},
     "output_type": "execute_result"
    }
   ],
   "source": [
    "np.zeros((4,2,3),dtype=int)"
   ]
  },
  {
   "cell_type": "markdown",
   "id": "01e68863",
   "metadata": {},
   "source": [
    "# ones():array with all ones"
   ]
  },
  {
   "cell_type": "code",
   "execution_count": 13,
   "id": "16569c49",
   "metadata": {},
   "outputs": [
    {
     "data": {
      "text/plain": [
       "array([[1., 1., 1., 1.],\n",
       "       [1., 1., 1., 1.]])"
      ]
     },
     "execution_count": 13,
     "metadata": {},
     "output_type": "execute_result"
    }
   ],
   "source": [
    "np.ones((2,4))"
   ]
  },
  {
   "cell_type": "code",
   "execution_count": 14,
   "id": "7b28388c",
   "metadata": {},
   "outputs": [
    {
     "data": {
      "text/plain": [
       "array([[1, 1, 1],\n",
       "       [1, 1, 1]])"
      ]
     },
     "execution_count": 14,
     "metadata": {},
     "output_type": "execute_result"
    }
   ],
   "source": [
    "np.ones((2,3),dtype=int)"
   ]
  },
  {
   "cell_type": "code",
   "execution_count": 15,
   "id": "3c0434fc",
   "metadata": {},
   "outputs": [
    {
     "data": {
      "text/plain": [
       "array([[[1, 1, 1],\n",
       "        [1, 1, 1]],\n",
       "\n",
       "       [[1, 1, 1],\n",
       "        [1, 1, 1]],\n",
       "\n",
       "       [[1, 1, 1],\n",
       "        [1, 1, 1]]])"
      ]
     },
     "execution_count": 15,
     "metadata": {},
     "output_type": "execute_result"
    }
   ],
   "source": [
    "np.ones((3,2,3),dtype=int)"
   ]
  },
  {
   "cell_type": "markdown",
   "id": "bde45623",
   "metadata": {},
   "source": [
    "# Empty(): array with all empty"
   ]
  },
  {
   "cell_type": "code",
   "execution_count": 17,
   "id": "6bc77a88",
   "metadata": {},
   "outputs": [
    {
     "data": {
      "text/plain": [
       "array([[0., 0., 0.],\n",
       "       [0., 0., 0.]])"
      ]
     },
     "execution_count": 17,
     "metadata": {},
     "output_type": "execute_result"
    }
   ],
   "source": [
    "np.empty((2,3))"
   ]
  },
  {
   "cell_type": "code",
   "execution_count": 18,
   "id": "6695a1fb",
   "metadata": {},
   "outputs": [
    {
     "data": {
      "text/plain": [
       "array([[[   0,    0,    0],\n",
       "        [   0,    0,    0]],\n",
       "\n",
       "       [[   0,    0,    0],\n",
       "        [   0, 1456,    0]],\n",
       "\n",
       "       [[   0,    0,    0],\n",
       "        [   0,    0,    0]]])"
      ]
     },
     "execution_count": 18,
     "metadata": {},
     "output_type": "execute_result"
    }
   ],
   "source": [
    "np.empty((3,2,3),dtype=int)"
   ]
  },
  {
   "cell_type": "code",
   "execution_count": 19,
   "id": "e9816bf1",
   "metadata": {},
   "outputs": [
    {
     "data": {
      "text/plain": [
       "array([['', '', '', '', ''],\n",
       "       ['', '', '', '', ''],\n",
       "       ['', '', '', '', ''],\n",
       "       ['', '', '', '', '']], dtype='<U1')"
      ]
     },
     "execution_count": 19,
     "metadata": {},
     "output_type": "execute_result"
    }
   ],
   "source": [
    "np.empty((4,5),dtype=str)"
   ]
  },
  {
   "cell_type": "code",
   "execution_count": 20,
   "id": "694b5068",
   "metadata": {},
   "outputs": [
    {
     "data": {
      "text/plain": [
       "array([[[1.49379171e-311, 1.49378067e-311, 3.60960968e-310,\n",
       "         5.79100229e-085, 1.00678753e-312],\n",
       "        [1.31353237e-308, 1.33360294e+241, 1.12253577e-311,\n",
       "         2.75909158e-306, 4.03347591e-270],\n",
       "        [6.22993169e-222, 3.20004826e-241, 1.10266576e-279,\n",
       "         2.18254133e-289, 2.18254133e-289],\n",
       "        [3.20443318e-241, 2.18354343e-289, 5.60174664e-275,\n",
       "         7.43703987e-251, 1.08742203e-202]],\n",
       "\n",
       "       [[6.93235115e-222, 5.08162500e-299, 5.89225648e-222,\n",
       "         1.83795625e-260, 7.45749275e-251],\n",
       "        [4.03162756e-270, 7.45749286e-251, 7.43704018e-251,\n",
       "         1.54109650e-231, 2.31130530e-289],\n",
       "        [1.72839821e-260, 1.08692755e-202, 1.72839821e-260,\n",
       "         4.61249233e-303, 9.98110230e-110],\n",
       "        [9.73358883e-207, 3.18093783e+151, 1.26927730e-277,\n",
       "         1.89120668e+219, 3.44999157e-085]],\n",
       "\n",
       "       [[2.64685961e+180, 5.30733197e-201, 6.74111711e+199,\n",
       "         7.98578458e+151, 4.62232807e-292],\n",
       "        [1.10262801e+161, 6.21823822e-311, 3.42196482e-210,\n",
       "         8.37027871e-313, 9.14800873e-308],\n",
       "        [1.33360317e+241, 3.88113030e-310, 5.08851955e+074,\n",
       "         1.74948606e-312, 1.31353237e-308],\n",
       "        [1.33360293e+241, 5.67421675e-311, 3.06836125e+257,\n",
       "         8.73989992e+245, 1.09456111e-303]]])"
      ]
     },
     "execution_count": 20,
     "metadata": {},
     "output_type": "execute_result"
    }
   ],
   "source": [
    "np.empty((3,4,5))"
   ]
  },
  {
   "cell_type": "code",
   "execution_count": 21,
   "id": "002c5a1d",
   "metadata": {},
   "outputs": [
    {
     "data": {
      "text/plain": [
       "array([[[-263099912,        703,        205,          0,          0],\n",
       "        [         0,          0,          0,          0,    4259932],\n",
       "        [1633952379,  975332724,  808591904,  825045554,  942681394],\n",
       "        [ 976826452,  876228658,  909585969,  808464439,  539763290]],\n",
       "\n",
       "       [[1735617826,  577005919,  807542842,  892953907,  929183029],\n",
       "        [ 876099941,  943077473,  895575607,  959918899,  845557862],\n",
       "        [ 573714787, 1965170732, 1852990835,  577072481, 1965170746],\n",
       "        [1852990835,  577072481, 1931616300, 1769173861,  975335023]],\n",
       "\n",
       "       [[1664688672, 1650550323, 1667523683,  808728118, 1698194530],\n",
       "        [1684090977,  875848761, 1647851874,  740451895, 1936532000],\n",
       "        [2037669735,  975332720, 2019893792, 1953850213, 1701994341],\n",
       "        [1936029041,  539763316, 1919252002, 1852795251,  572537378]]])"
      ]
     },
     "execution_count": 21,
     "metadata": {},
     "output_type": "execute_result"
    }
   ],
   "source": [
    "np.empty((3,4,5),dtype=int)"
   ]
  },
  {
   "cell_type": "markdown",
   "id": "f662de72",
   "metadata": {},
   "source": [
    "# full(): supply own value in arrray"
   ]
  },
  {
   "cell_type": "code",
   "execution_count": 22,
   "id": "d35d497b",
   "metadata": {},
   "outputs": [
    {
     "data": {
      "text/plain": [
       "array([[100, 100, 100],\n",
       "       [100, 100, 100]])"
      ]
     },
     "execution_count": 22,
     "metadata": {},
     "output_type": "execute_result"
    }
   ],
   "source": [
    "#Signature: np.full(shape, fill_value, dtype=None, order='C', *, like=None)\n",
    "#Docstring:\n",
    "#Return a new array of given shape and type, filled with `fill_value`.\n",
    "\n",
    "np.full((2,3),100)"
   ]
  },
  {
   "cell_type": "code",
   "execution_count": 24,
   "id": "260a5284",
   "metadata": {},
   "outputs": [
    {
     "data": {
      "text/plain": [
       "array([[200, 200, 200, 200, 200],\n",
       "       [200, 200, 200, 200, 200],\n",
       "       [200, 200, 200, 200, 200],\n",
       "       [200, 200, 200, 200, 200]])"
      ]
     },
     "execution_count": 24,
     "metadata": {},
     "output_type": "execute_result"
    }
   ],
   "source": [
    "np.full((4,5),200)"
   ]
  },
  {
   "cell_type": "code",
   "execution_count": 25,
   "id": "1f37b4ad",
   "metadata": {},
   "outputs": [
    {
     "data": {
      "text/plain": [
       "array([2.5, 2.5, 2.5, 2.5, 2.5, 2.5, 2.5, 2.5, 2.5, 2.5, 2.5, 2.5, 2.5])"
      ]
     },
     "execution_count": 25,
     "metadata": {},
     "output_type": "execute_result"
    }
   ],
   "source": [
    "np.full(13,2.5)"
   ]
  },
  {
   "cell_type": "code",
   "execution_count": 28,
   "id": "c422d2f1",
   "metadata": {},
   "outputs": [
    {
     "data": {
      "text/plain": [
       "array([['Null', 'Null', 'Null', 'Null'],\n",
       "       ['Null', 'Null', 'Null', 'Null'],\n",
       "       ['Null', 'Null', 'Null', 'Null'],\n",
       "       ['Null', 'Null', 'Null', 'Null']], dtype='<U4')"
      ]
     },
     "execution_count": 28,
     "metadata": {},
     "output_type": "execute_result"
    }
   ],
   "source": [
    "np.full((4,4),fill_value='Null')"
   ]
  },
  {
   "cell_type": "markdown",
   "id": "c285bef9",
   "metadata": {},
   "source": [
    "# empty():array with garbage values"
   ]
  },
  {
   "cell_type": "code",
   "execution_count": 29,
   "id": "66983e58",
   "metadata": {},
   "outputs": [
    {
     "data": {
      "text/plain": [
       "array([0., 0., 0., 0., 0., 0.])"
      ]
     },
     "execution_count": 29,
     "metadata": {},
     "output_type": "execute_result"
    }
   ],
   "source": [
    "np.empty(6)"
   ]
  },
  {
   "cell_type": "code",
   "execution_count": 30,
   "id": "a37afbe2",
   "metadata": {},
   "outputs": [
    {
     "data": {
      "text/plain": [
       "array([-212934576,        703,          0,          0,     131074])"
      ]
     },
     "execution_count": 30,
     "metadata": {},
     "output_type": "execute_result"
    }
   ],
   "source": [
    "np.empty((5),dtype=int)"
   ]
  },
  {
   "cell_type": "code",
   "execution_count": 31,
   "id": "eaf7d66d",
   "metadata": {},
   "outputs": [
    {
     "data": {
      "text/plain": [
       "array([[-1, -1,  0,  0,  0],\n",
       "       [ 0,  0,  0,  0,  0],\n",
       "       [ 0,  0,  0,  0,  0],\n",
       "       [ 0,  0,  0,  0,  0]])"
      ]
     },
     "execution_count": 31,
     "metadata": {},
     "output_type": "execute_result"
    }
   ],
   "source": [
    "np.empty((4,5),dtype=int)"
   ]
  },
  {
   "cell_type": "code",
   "execution_count": 32,
   "id": "259c0250",
   "metadata": {},
   "outputs": [
    {
     "data": {
      "text/plain": [
       "array([[[-208006488,        703,        216,          0],\n",
       "        [         0,          0,          0,          0],\n",
       "        [         0,          0, 1936532091, 1684627303],\n",
       "        [ 572537378,  892363319,  929117029,  929444653]],\n",
       "\n",
       "       [[ 842293808,  929181797, 1714762081,  842412854],\n",
       "        [1630876724,  959536995, 1597257269,  573714737],\n",
       "        [1830953004, 1952409459,  577073273, 1696735290],\n",
       "        [1969448312, 1918854516, 1819636581,  539763316]],\n",
       "\n",
       "       [[1702065442, 1835101810,  540680805, 1702065442],\n",
       "        [1835101810,  539763301, 1936028450, 1852795251],\n",
       "        [ 572537378,  892363319,  929117029,  929444653],\n",
       "        [ 842293808,  929181797, 1714762081,  842412854]],\n",
       "\n",
       "       [[1630876724,  539763299, 1952539682,  540680805],\n",
       "        [ 842019362,  842083634, 1412968493,  842676528],\n",
       "        [ 808466992,  825373742, 1513369649,  572533794],\n",
       "        [1936876918,  577662825,  891428922, 2099393326]]])"
      ]
     },
     "execution_count": 32,
     "metadata": {},
     "output_type": "execute_result"
    }
   ],
   "source": [
    "np.empty((4,4,4),dtype=int)"
   ]
  },
  {
   "cell_type": "markdown",
   "id": "31119693",
   "metadata": {},
   "source": [
    "### identity(): identity matrix\n",
    "...diagonal elements 1 and non diagonal 0"
   ]
  },
  {
   "cell_type": "code",
   "execution_count": 33,
   "id": "56462f11",
   "metadata": {},
   "outputs": [
    {
     "data": {
      "text/plain": [
       "array([[1., 0., 0., 0.],\n",
       "       [0., 1., 0., 0.],\n",
       "       [0., 0., 1., 0.],\n",
       "       [0., 0., 0., 1.]])"
      ]
     },
     "execution_count": 33,
     "metadata": {},
     "output_type": "execute_result"
    }
   ],
   "source": [
    "# n: means N x N array\n",
    "np.identity(4)"
   ]
  },
  {
   "cell_type": "code",
   "execution_count": 34,
   "id": "eb5aedf6",
   "metadata": {},
   "outputs": [
    {
     "data": {
      "text/plain": [
       "array([[1., 0., 0., 0., 0.],\n",
       "       [0., 1., 0., 0., 0.],\n",
       "       [0., 0., 1., 0., 0.],\n",
       "       [0., 0., 0., 1., 0.],\n",
       "       [0., 0., 0., 0., 1.]])"
      ]
     },
     "execution_count": 34,
     "metadata": {},
     "output_type": "execute_result"
    }
   ],
   "source": [
    "np.identity(5)"
   ]
  },
  {
   "cell_type": "code",
   "execution_count": 35,
   "id": "185cbb08",
   "metadata": {},
   "outputs": [
    {
     "data": {
      "text/plain": [
       "array([[1, 0, 0, 0, 0, 0, 0],\n",
       "       [0, 1, 0, 0, 0, 0, 0],\n",
       "       [0, 0, 1, 0, 0, 0, 0],\n",
       "       [0, 0, 0, 1, 0, 0, 0],\n",
       "       [0, 0, 0, 0, 1, 0, 0],\n",
       "       [0, 0, 0, 0, 0, 1, 0],\n",
       "       [0, 0, 0, 0, 0, 0, 1]])"
      ]
     },
     "execution_count": 35,
     "metadata": {},
     "output_type": "execute_result"
    }
   ],
   "source": [
    "np.identity(7,dtype=int)"
   ]
  },
  {
   "cell_type": "code",
   "execution_count": 36,
   "id": "e4e3c084",
   "metadata": {},
   "outputs": [
    {
     "ename": "TypeError",
     "evalue": "'tuple' object cannot be interpreted as an integer",
     "output_type": "error",
     "traceback": [
      "\u001b[1;31m---------------------------------------------------------------------------\u001b[0m",
      "\u001b[1;31mTypeError\u001b[0m                                 Traceback (most recent call last)",
      "\u001b[1;32m~\\AppData\\Local\\Temp\\ipykernel_19564\\2918506860.py\u001b[0m in \u001b[0;36m<module>\u001b[1;34m\u001b[0m\n\u001b[1;32m----> 1\u001b[1;33m \u001b[0mnp\u001b[0m\u001b[1;33m.\u001b[0m\u001b[0midentity\u001b[0m\u001b[1;33m(\u001b[0m\u001b[1;33m(\u001b[0m\u001b[1;36m3\u001b[0m\u001b[1;33m,\u001b[0m\u001b[1;36m3\u001b[0m\u001b[1;33m)\u001b[0m\u001b[1;33m,\u001b[0m\u001b[0mdtype\u001b[0m\u001b[1;33m=\u001b[0m\u001b[0mint\u001b[0m\u001b[1;33m)\u001b[0m\u001b[1;33m\u001b[0m\u001b[1;33m\u001b[0m\u001b[0m\n\u001b[0m",
      "\u001b[1;32mC:\\ProgramData\\Anaconda3\\lib\\site-packages\\numpy\\core\\numeric.py\u001b[0m in \u001b[0;36midentity\u001b[1;34m(n, dtype, like)\u001b[0m\n\u001b[0;32m   2165\u001b[0m \u001b[1;33m\u001b[0m\u001b[0m\n\u001b[0;32m   2166\u001b[0m     \u001b[1;32mfrom\u001b[0m \u001b[0mnumpy\u001b[0m \u001b[1;32mimport\u001b[0m \u001b[0meye\u001b[0m\u001b[1;33m\u001b[0m\u001b[1;33m\u001b[0m\u001b[0m\n\u001b[1;32m-> 2167\u001b[1;33m     \u001b[1;32mreturn\u001b[0m \u001b[0meye\u001b[0m\u001b[1;33m(\u001b[0m\u001b[0mn\u001b[0m\u001b[1;33m,\u001b[0m \u001b[0mdtype\u001b[0m\u001b[1;33m=\u001b[0m\u001b[0mdtype\u001b[0m\u001b[1;33m,\u001b[0m \u001b[0mlike\u001b[0m\u001b[1;33m=\u001b[0m\u001b[0mlike\u001b[0m\u001b[1;33m)\u001b[0m\u001b[1;33m\u001b[0m\u001b[1;33m\u001b[0m\u001b[0m\n\u001b[0m\u001b[0;32m   2168\u001b[0m \u001b[1;33m\u001b[0m\u001b[0m\n\u001b[0;32m   2169\u001b[0m \u001b[1;33m\u001b[0m\u001b[0m\n",
      "\u001b[1;32mC:\\ProgramData\\Anaconda3\\lib\\site-packages\\numpy\\lib\\twodim_base.py\u001b[0m in \u001b[0;36meye\u001b[1;34m(N, M, k, dtype, order, like)\u001b[0m\n\u001b[0;32m    212\u001b[0m     \u001b[1;32mif\u001b[0m \u001b[0mM\u001b[0m \u001b[1;32mis\u001b[0m \u001b[1;32mNone\u001b[0m\u001b[1;33m:\u001b[0m\u001b[1;33m\u001b[0m\u001b[1;33m\u001b[0m\u001b[0m\n\u001b[0;32m    213\u001b[0m         \u001b[0mM\u001b[0m \u001b[1;33m=\u001b[0m \u001b[0mN\u001b[0m\u001b[1;33m\u001b[0m\u001b[1;33m\u001b[0m\u001b[0m\n\u001b[1;32m--> 214\u001b[1;33m     \u001b[0mm\u001b[0m \u001b[1;33m=\u001b[0m \u001b[0mzeros\u001b[0m\u001b[1;33m(\u001b[0m\u001b[1;33m(\u001b[0m\u001b[0mN\u001b[0m\u001b[1;33m,\u001b[0m \u001b[0mM\u001b[0m\u001b[1;33m)\u001b[0m\u001b[1;33m,\u001b[0m \u001b[0mdtype\u001b[0m\u001b[1;33m=\u001b[0m\u001b[0mdtype\u001b[0m\u001b[1;33m,\u001b[0m \u001b[0morder\u001b[0m\u001b[1;33m=\u001b[0m\u001b[0morder\u001b[0m\u001b[1;33m)\u001b[0m\u001b[1;33m\u001b[0m\u001b[1;33m\u001b[0m\u001b[0m\n\u001b[0m\u001b[0;32m    215\u001b[0m     \u001b[1;32mif\u001b[0m \u001b[0mk\u001b[0m \u001b[1;33m>=\u001b[0m \u001b[0mM\u001b[0m\u001b[1;33m:\u001b[0m\u001b[1;33m\u001b[0m\u001b[1;33m\u001b[0m\u001b[0m\n\u001b[0;32m    216\u001b[0m         \u001b[1;32mreturn\u001b[0m \u001b[0mm\u001b[0m\u001b[1;33m\u001b[0m\u001b[1;33m\u001b[0m\u001b[0m\n",
      "\u001b[1;31mTypeError\u001b[0m: 'tuple' object cannot be interpreted as an integer"
     ]
    }
   ],
   "source": [
    "np.identity((3,3),dtype=int)"
   ]
  },
  {
   "cell_type": "markdown",
   "id": "10c81295",
   "metadata": {},
   "source": [
    "# eye(): used to crreate an identity matrix"
   ]
  },
  {
   "cell_type": "code",
   "execution_count": 37,
   "id": "00cdb1c1",
   "metadata": {},
   "outputs": [
    {
     "data": {
      "text/plain": [
       "array([[1., 0., 0., 0., 0.],\n",
       "       [0., 1., 0., 0., 0.],\n",
       "       [0., 0., 1., 0., 0.],\n",
       "       [0., 0., 0., 1., 0.],\n",
       "       [0., 0., 0., 0., 1.]])"
      ]
     },
     "execution_count": 37,
     "metadata": {},
     "output_type": "execute_result"
    }
   ],
   "source": [
    "np.eye(5)"
   ]
  },
  {
   "cell_type": "code",
   "execution_count": 38,
   "id": "dd1c6a05",
   "metadata": {},
   "outputs": [
    {
     "data": {
      "text/plain": [
       "array([[1., 0., 0., 0., 0., 0., 0., 0., 0., 0.],\n",
       "       [0., 1., 0., 0., 0., 0., 0., 0., 0., 0.],\n",
       "       [0., 0., 1., 0., 0., 0., 0., 0., 0., 0.],\n",
       "       [0., 0., 0., 1., 0., 0., 0., 0., 0., 0.],\n",
       "       [0., 0., 0., 0., 1., 0., 0., 0., 0., 0.]])"
      ]
     },
     "execution_count": 38,
     "metadata": {},
     "output_type": "execute_result"
    }
   ],
   "source": [
    "#np.identity(n, dtype=None, *, like=None)\n",
    "#np.eye(N, M=None, k=0, dtype=<class 'float'>)\n",
    "np.eye(5,10)"
   ]
  },
  {
   "cell_type": "code",
   "execution_count": 42,
   "id": "01ee59d1",
   "metadata": {},
   "outputs": [
    {
     "data": {
      "text/plain": [
       "array([[0., 0., 0., 1., 0.],\n",
       "       [0., 0., 0., 0., 1.],\n",
       "       [0., 0., 0., 0., 0.],\n",
       "       [0., 0., 0., 0., 0.],\n",
       "       [0., 0., 0., 0., 0.]])"
      ]
     },
     "execution_count": 42,
     "metadata": {},
     "output_type": "execute_result"
    }
   ],
   "source": [
    "np.eye(5,5,k=3)"
   ]
  },
  {
   "cell_type": "code",
   "execution_count": 43,
   "id": "fed8a31a",
   "metadata": {},
   "outputs": [
    {
     "data": {
      "text/plain": [
       "array([[0., 0., 0., 0., 1., 0.],\n",
       "       [0., 0., 0., 0., 0., 1.],\n",
       "       [0., 0., 0., 0., 0., 0.],\n",
       "       [0., 0., 0., 0., 0., 0.]])"
      ]
     },
     "execution_count": 43,
     "metadata": {},
     "output_type": "execute_result"
    }
   ],
   "source": [
    "np.eye(4,6,k=4)"
   ]
  },
  {
   "cell_type": "code",
   "execution_count": 44,
   "id": "81132928",
   "metadata": {},
   "outputs": [
    {
     "data": {
      "text/plain": [
       "array([[0, 0, 1],\n",
       "       [0, 0, 0],\n",
       "       [0, 0, 0]])"
      ]
     },
     "execution_count": 44,
     "metadata": {},
     "output_type": "execute_result"
    }
   ],
   "source": [
    "np.eye(3,3,k=2,dtype=int)"
   ]
  },
  {
   "cell_type": "markdown",
   "id": "ec9386f3",
   "metadata": {},
   "source": [
    "### linspace(): array with linearly spaced values"
   ]
  },
  {
   "cell_type": "code",
   "execution_count": 45,
   "id": "9d25ff8b",
   "metadata": {},
   "outputs": [
    {
     "data": {
      "text/plain": [
       "array([ 2.        ,  2.16326531,  2.32653061,  2.48979592,  2.65306122,\n",
       "        2.81632653,  2.97959184,  3.14285714,  3.30612245,  3.46938776,\n",
       "        3.63265306,  3.79591837,  3.95918367,  4.12244898,  4.28571429,\n",
       "        4.44897959,  4.6122449 ,  4.7755102 ,  4.93877551,  5.10204082,\n",
       "        5.26530612,  5.42857143,  5.59183673,  5.75510204,  5.91836735,\n",
       "        6.08163265,  6.24489796,  6.40816327,  6.57142857,  6.73469388,\n",
       "        6.89795918,  7.06122449,  7.2244898 ,  7.3877551 ,  7.55102041,\n",
       "        7.71428571,  7.87755102,  8.04081633,  8.20408163,  8.36734694,\n",
       "        8.53061224,  8.69387755,  8.85714286,  9.02040816,  9.18367347,\n",
       "        9.34693878,  9.51020408,  9.67346939,  9.83673469, 10.        ])"
      ]
     },
     "execution_count": 45,
     "metadata": {},
     "output_type": "execute_result"
    }
   ],
   "source": [
    "\"\"\"\n",
    "np.linspace(\n",
    "    start,\n",
    "    stop,\n",
    "    num=50,\n",
    "    endpoint=True,\n",
    "    retstep=False,\n",
    "    dtype=None,\n",
    "    axis=0,\n",
    ")\n",
    "\"\"\"\n",
    "np.linspace(2,10)"
   ]
  },
  {
   "cell_type": "code",
   "execution_count": 48,
   "id": "33df0660",
   "metadata": {},
   "outputs": [
    {
     "data": {
      "text/plain": [
       "(array([ 2.        ,  2.16326531,  2.32653061,  2.48979592,  2.65306122,\n",
       "         2.81632653,  2.97959184,  3.14285714,  3.30612245,  3.46938776,\n",
       "         3.63265306,  3.79591837,  3.95918367,  4.12244898,  4.28571429,\n",
       "         4.44897959,  4.6122449 ,  4.7755102 ,  4.93877551,  5.10204082,\n",
       "         5.26530612,  5.42857143,  5.59183673,  5.75510204,  5.91836735,\n",
       "         6.08163265,  6.24489796,  6.40816327,  6.57142857,  6.73469388,\n",
       "         6.89795918,  7.06122449,  7.2244898 ,  7.3877551 ,  7.55102041,\n",
       "         7.71428571,  7.87755102,  8.04081633,  8.20408163,  8.36734694,\n",
       "         8.53061224,  8.69387755,  8.85714286,  9.02040816,  9.18367347,\n",
       "         9.34693878,  9.51020408,  9.67346939,  9.83673469, 10.        ]),\n",
       " 0.16326530612244897)"
      ]
     },
     "execution_count": 48,
     "metadata": {},
     "output_type": "execute_result"
    }
   ],
   "source": [
    "np.linspace(2,10,retstep=True)"
   ]
  },
  {
   "cell_type": "code",
   "execution_count": 49,
   "id": "e35a041c",
   "metadata": {},
   "outputs": [
    {
     "data": {
      "text/plain": [
       "(array([3.  , 3.35, 3.7 , 4.05, 4.4 , 4.75, 5.1 , 5.45, 5.8 , 6.15, 6.5 ,\n",
       "        6.85, 7.2 , 7.55, 7.9 , 8.25, 8.6 , 8.95, 9.3 , 9.65]),\n",
       " 0.35)"
      ]
     },
     "execution_count": 49,
     "metadata": {},
     "output_type": "execute_result"
    }
   ],
   "source": [
    "np.linspace(3,10,num=20,endpoint=False,retstep=True)"
   ]
  },
  {
   "cell_type": "code",
   "execution_count": 50,
   "id": "52f3c55c",
   "metadata": {},
   "outputs": [
    {
     "data": {
      "text/plain": [
       "array([[1., 0., 0., 0., 0.],\n",
       "       [0., 1., 0., 0., 0.],\n",
       "       [0., 0., 1., 0., 0.],\n",
       "       [0., 0., 0., 1., 0.],\n",
       "       [0., 0., 0., 0., 1.]])"
      ]
     },
     "execution_count": 50,
     "metadata": {},
     "output_type": "execute_result"
    }
   ],
   "source": [
    "x=np.identity(5)\n",
    "x"
   ]
  },
  {
   "cell_type": "code",
   "execution_count": 51,
   "id": "faa949bb",
   "metadata": {},
   "outputs": [
    {
     "data": {
      "text/plain": [
       "array([1., 1., 1., 1., 1.])"
      ]
     },
     "execution_count": 51,
     "metadata": {},
     "output_type": "execute_result"
    }
   ],
   "source": [
    "np.diagonal(x)##gives u an access to diagonal elements"
   ]
  },
  {
   "cell_type": "markdown",
   "id": "e3e12f8d",
   "metadata": {},
   "source": [
    "# random(): creates a random number\n"
   ]
  },
  {
   "cell_type": "code",
   "execution_count": 52,
   "id": "a8aa1294",
   "metadata": {},
   "outputs": [
    {
     "data": {
      "text/plain": [
       "array([0.08926435, 0.00676581, 0.86518639, 0.59004281, 0.39867831,\n",
       "       0.23145071])"
      ]
     },
     "execution_count": 52,
     "metadata": {},
     "output_type": "execute_result"
    }
   ],
   "source": [
    "#random(size=None)\n",
    "#Return random floats in the half-open interval [0.0, 1.0).\n",
    "np.random.random(6)"
   ]
  },
  {
   "cell_type": "code",
   "execution_count": 53,
   "id": "d549e169",
   "metadata": {},
   "outputs": [
    {
     "data": {
      "text/plain": [
       "array([[0.88962691, 0.45266092, 0.02375906],\n",
       "       [0.21313409, 0.9980215 , 0.0924522 ]])"
      ]
     },
     "execution_count": 53,
     "metadata": {},
     "output_type": "execute_result"
    }
   ],
   "source": [
    "np.random.random((2,3))"
   ]
  },
  {
   "cell_type": "code",
   "execution_count": 54,
   "id": "d546a60d",
   "metadata": {},
   "outputs": [
    {
     "data": {
      "text/plain": [
       "array([[[0.20706599, 0.90269372, 0.63749495, 0.86098644, 0.18900875],\n",
       "        [0.45219272, 0.93924345, 0.87246265, 0.73749088, 0.24934629],\n",
       "        [0.39449398, 0.58454573, 0.73483812, 0.05671854, 0.56360754],\n",
       "        [0.52085873, 0.00207751, 0.47754131, 0.98552772, 0.27925166]],\n",
       "\n",
       "       [[0.40683321, 0.61086352, 0.19506486, 0.39486077, 0.12009846],\n",
       "        [0.21039711, 0.86780879, 0.00371116, 0.09591738, 0.98977353],\n",
       "        [0.78270968, 0.7961786 , 0.47598746, 0.13433944, 0.08976424],\n",
       "        [0.60854175, 0.57105185, 0.51347089, 0.07806232, 0.94167319]],\n",
       "\n",
       "       [[0.61114738, 0.39756469, 0.15503126, 0.51842393, 0.34192854],\n",
       "        [0.05017795, 0.29407988, 0.70500562, 0.79504795, 0.33721165],\n",
       "        [0.1099043 , 0.3132952 , 0.53016687, 0.46660361, 0.97038749],\n",
       "        [0.5158931 , 0.87394702, 0.17293235, 0.16794233, 0.32481866]]])"
      ]
     },
     "execution_count": 54,
     "metadata": {},
     "output_type": "execute_result"
    }
   ],
   "source": [
    "np.random.random((3,4,5))"
   ]
  },
  {
   "cell_type": "code",
   "execution_count": 55,
   "id": "41c7d6bf",
   "metadata": {},
   "outputs": [
    {
     "data": {
      "text/plain": [
       "array([0, 0, 1, 0, 2, 3, 7, 6, 7, 7, 5, 1, 1, 6, 0, 4, 7, 1, 1, 2])"
      ]
     },
     "execution_count": 55,
     "metadata": {},
     "output_type": "execute_result"
    }
   ],
   "source": [
    "# random int values\n",
    "#randint(low, high=None, size=None, dtype=int)\n",
    "np.random.randint(8,size=20) # when we supply only low then it is exclusive"
   ]
  },
  {
   "cell_type": "code",
   "execution_count": 56,
   "id": "5ab1f4e5",
   "metadata": {},
   "outputs": [
    {
     "data": {
      "text/plain": [
       "array([18, 18, 15, 13, 15,  9, 11, 17, 12, 13, 16, 14,  9,  8,  8, 19, 19,\n",
       "       10, 15, 14])"
      ]
     },
     "execution_count": 56,
     "metadata": {},
     "output_type": "execute_result"
    }
   ],
   "source": [
    "# when we supply both, low and high\n",
    "#Return random integers from `low` (inclusive) to `high` (exclusive).\n",
    "np.random.randint(8,20,size=20)"
   ]
  },
  {
   "cell_type": "code",
   "execution_count": 57,
   "id": "7ba0bfc7",
   "metadata": {},
   "outputs": [
    {
     "data": {
      "text/plain": [
       "array([107,  96,  70, 108,  76,  75,  98,  76,  77, 110,  77,  80,  83,\n",
       "        99,  95,  72,  89,  85, 105,  88, 116, 100, 105,  97, 114,  98,\n",
       "       117, 116, 100, 109,  87,  84,  85,  95,  71, 100,  87,  97,  76,\n",
       "        96, 108, 104, 104,  78, 102,  97, 113,  91,  81, 112])"
      ]
     },
     "execution_count": 57,
     "metadata": {},
     "output_type": "execute_result"
    }
   ],
   "source": [
    "# generate a data of bloodpressure in range 70-120\n",
    "np.random.randint(70,121,size=50)"
   ]
  },
  {
   "cell_type": "code",
   "execution_count": 58,
   "id": "be7fa54b",
   "metadata": {},
   "outputs": [
    {
     "data": {
      "text/plain": [
       "array([27687, 38900, 55989, 28403, 47473, 47184, 56872, 32259, 20880,\n",
       "       55998, 45602, 32335, 42770, 39179, 48341, 24429, 30879, 27508,\n",
       "       56184, 27406, 21044, 52399, 50197, 39267, 37461, 26392, 20178,\n",
       "       48786, 23274, 22237, 22233, 22774, 20198, 58271, 46853, 35630,\n",
       "       26053, 33838, 51543, 45743, 23367, 50335, 55092, 58408, 24110,\n",
       "       28263, 44489, 38004, 24446, 39150, 54665, 53003, 53087, 27797,\n",
       "       47107, 32228, 50930, 32164, 57752, 20189, 34373, 35485, 34708,\n",
       "       30110, 50091, 47710, 35322, 21607, 32948, 58908, 40046, 22709,\n",
       "       51097, 40274, 57306, 36386, 58855, 59192, 34287, 32628, 50045,\n",
       "       53818, 35317, 47136, 27886, 52672, 43665, 31208, 36830, 37707,\n",
       "       44509, 28597, 47278, 27735, 55023, 33763, 48449, 33864, 47071,\n",
       "       33765])"
      ]
     },
     "execution_count": 58,
     "metadata": {},
     "output_type": "execute_result"
    }
   ],
   "source": [
    "# salary data: 20000,60000 for 100 employees\n",
    "np.random.randint(20000,60001,100)"
   ]
  },
  {
   "cell_type": "code",
   "execution_count": 59,
   "id": "3b3d3688",
   "metadata": {},
   "outputs": [
    {
     "data": {
      "text/plain": [
       "array([21, 38, 22, 37, 21, 27, 27, 24, 21, 20, 30, 29, 22, 22, 22, 29, 39,\n",
       "       29, 25, 37])"
      ]
     },
     "execution_count": 59,
     "metadata": {},
     "output_type": "execute_result"
    }
   ],
   "source": [
    "np.random.randint(20,40,20)"
   ]
  },
  {
   "cell_type": "code",
   "execution_count": 60,
   "id": "4c6c0d3d",
   "metadata": {},
   "outputs": [
    {
     "data": {
      "text/plain": [
       "array([[0.91861647, 0.21872254, 0.40586363, 0.05619758, 0.32952703,\n",
       "        0.11154013],\n",
       "       [0.14537699, 0.08489182, 0.45739272, 0.31240418, 0.56601513,\n",
       "        0.28734958],\n",
       "       [0.1362094 , 0.04311114, 0.67260435, 0.24655134, 0.90626956,\n",
       "        0.68296169],\n",
       "       [0.19725782, 0.82689276, 0.86896956, 0.55788217, 0.29889393,\n",
       "        0.06772117]])"
      ]
     },
     "execution_count": 60,
     "metadata": {},
     "output_type": "execute_result"
    }
   ],
   "source": [
    "# if we have array present in memory\n",
    "# & we need to create a new array with same structure\n",
    "x = np.random.random((4,6))\n",
    "x"
   ]
  },
  {
   "cell_type": "code",
   "execution_count": 61,
   "id": "6beba97a",
   "metadata": {},
   "outputs": [
    {
     "data": {
      "text/plain": [
       "(4, 6)"
      ]
     },
     "execution_count": 61,
     "metadata": {},
     "output_type": "execute_result"
    }
   ],
   "source": [
    "x.shape"
   ]
  },
  {
   "cell_type": "code",
   "execution_count": 62,
   "id": "3ca9ec40",
   "metadata": {},
   "outputs": [
    {
     "data": {
      "text/plain": [
       "array([[1., 1., 1., 1., 1., 1.],\n",
       "       [1., 1., 1., 1., 1., 1.],\n",
       "       [1., 1., 1., 1., 1., 1.],\n",
       "       [1., 1., 1., 1., 1., 1.]])"
      ]
     },
     "execution_count": 62,
     "metadata": {},
     "output_type": "execute_result"
    }
   ],
   "source": [
    "# create an array of 1's with same shape as that of x\n",
    "np.ones_like(x)"
   ]
  },
  {
   "cell_type": "code",
   "execution_count": 64,
   "id": "ef9261fa",
   "metadata": {},
   "outputs": [
    {
     "data": {
      "text/plain": [
       "array([[1, 1, 1, 1, 1, 1],\n",
       "       [1, 1, 1, 1, 1, 1],\n",
       "       [1, 1, 1, 1, 1, 1],\n",
       "       [1, 1, 1, 1, 1, 1]])"
      ]
     },
     "execution_count": 64,
     "metadata": {},
     "output_type": "execute_result"
    }
   ],
   "source": [
    "np.ones_like(x,dtype=int)"
   ]
  },
  {
   "cell_type": "code",
   "execution_count": 67,
   "id": "4e53c628",
   "metadata": {},
   "outputs": [
    {
     "data": {
      "text/plain": [
       "array([[0.69382717, 0.08302273, 0.74386764, 0.56758893, 0.26160994,\n",
       "        0.2122715 , 0.55307299],\n",
       "       [0.67816765, 0.9075087 , 0.31445265, 0.87184197, 0.42692714,\n",
       "        0.37849889, 0.73939134],\n",
       "       [0.38691255, 0.56776466, 0.15660074, 0.19675817, 0.80976415,\n",
       "        0.80092468, 0.73196135],\n",
       "       [0.23686679, 0.45689256, 0.60883757, 0.33983566, 0.07145428,\n",
       "        0.86316874, 0.16805653],\n",
       "       [0.39837245, 0.2602181 , 0.78385985, 0.13921865, 0.54607594,\n",
       "        0.03069564, 0.48854944],\n",
       "       [0.55459117, 0.08711964, 0.02938127, 0.08684425, 0.59564059,\n",
       "        0.62890082, 0.8194051 ]])"
      ]
     },
     "execution_count": 67,
     "metadata": {},
     "output_type": "execute_result"
    }
   ],
   "source": [
    "r=np.random.random((6,7))\n",
    "r"
   ]
  },
  {
   "cell_type": "code",
   "execution_count": 68,
   "id": "fea3edef",
   "metadata": {},
   "outputs": [
    {
     "data": {
      "text/plain": [
       "(6, 7)"
      ]
     },
     "execution_count": 68,
     "metadata": {},
     "output_type": "execute_result"
    }
   ],
   "source": [
    "r.shape"
   ]
  },
  {
   "cell_type": "code",
   "execution_count": 69,
   "id": "9493c30b",
   "metadata": {},
   "outputs": [
    {
     "data": {
      "text/plain": [
       "array([[1., 1., 1., 1., 1., 1., 1.],\n",
       "       [1., 1., 1., 1., 1., 1., 1.],\n",
       "       [1., 1., 1., 1., 1., 1., 1.],\n",
       "       [1., 1., 1., 1., 1., 1., 1.],\n",
       "       [1., 1., 1., 1., 1., 1., 1.],\n",
       "       [1., 1., 1., 1., 1., 1., 1.]])"
      ]
     },
     "execution_count": 69,
     "metadata": {},
     "output_type": "execute_result"
    }
   ],
   "source": [
    "np.ones_like(r)"
   ]
  },
  {
   "cell_type": "code",
   "execution_count": 70,
   "id": "7361f57b",
   "metadata": {},
   "outputs": [
    {
     "data": {
      "text/plain": [
       "array([[1, 1, 1, 1, 1, 1, 1],\n",
       "       [1, 1, 1, 1, 1, 1, 1],\n",
       "       [1, 1, 1, 1, 1, 1, 1],\n",
       "       [1, 1, 1, 1, 1, 1, 1],\n",
       "       [1, 1, 1, 1, 1, 1, 1],\n",
       "       [1, 1, 1, 1, 1, 1, 1]])"
      ]
     },
     "execution_count": 70,
     "metadata": {},
     "output_type": "execute_result"
    }
   ],
   "source": [
    "np.ones_like(r,dtype=int)"
   ]
  },
  {
   "cell_type": "code",
   "execution_count": 71,
   "id": "4314c7a1",
   "metadata": {},
   "outputs": [
    {
     "data": {
      "text/plain": [
       "array([[1., 1., 1., 1., 1., 1., 1.],\n",
       "       [1., 1., 1., 1., 1., 1., 1.],\n",
       "       [1., 1., 1., 1., 1., 1., 1.],\n",
       "       [1., 1., 1., 1., 1., 1., 1.],\n",
       "       [1., 1., 1., 1., 1., 1., 1.],\n",
       "       [1., 1., 1., 1., 1., 1., 1.]])"
      ]
     },
     "execution_count": 71,
     "metadata": {},
     "output_type": "execute_result"
    }
   ],
   "source": [
    "np.empty_like(r)"
   ]
  },
  {
   "cell_type": "code",
   "execution_count": 72,
   "id": "826faf10",
   "metadata": {},
   "outputs": [
    {
     "data": {
      "text/plain": [
       "array([[4128860, 6029375, 3801155, 5570652, 6619251, 7536754, 5832796],\n",
       "       [6750325, 7209057, 6815844, 7471201, 6357066, 7602279, 7340129],\n",
       "       [3014748, 7340137, 7602297, 7274600, 6029422, 7471216, 6684783],\n",
       "       [7077993, 6226021, 6619236, 6357094, 7078005, 6029428, 6881384],\n",
       "       [7602291, 7471215, 3014777, 7405683, 6881388, 6619252, 6946861],\n",
       "       [7667823, 7209074, 7077985, 7340032,     121,       0,       0]])"
      ]
     },
     "execution_count": 72,
     "metadata": {},
     "output_type": "execute_result"
    }
   ],
   "source": [
    "np.empty_like(r,dtype=int)"
   ]
  },
  {
   "cell_type": "code",
   "execution_count": 73,
   "id": "817c0483",
   "metadata": {},
   "outputs": [
    {
     "data": {
      "text/plain": [
       "array([[0., 0., 0., 0., 0., 0., 0.],\n",
       "       [0., 0., 0., 0., 0., 0., 0.],\n",
       "       [0., 0., 0., 0., 0., 0., 0.],\n",
       "       [0., 0., 0., 0., 0., 0., 0.],\n",
       "       [0., 0., 0., 0., 0., 0., 0.],\n",
       "       [0., 0., 0., 0., 0., 0., 0.]])"
      ]
     },
     "execution_count": 73,
     "metadata": {},
     "output_type": "execute_result"
    }
   ],
   "source": [
    "np.zeros_like(r)"
   ]
  },
  {
   "cell_type": "code",
   "execution_count": 74,
   "id": "4982e101",
   "metadata": {},
   "outputs": [
    {
     "data": {
      "text/plain": [
       "array([[0, 0, 0, 0, 0, 0, 0],\n",
       "       [0, 0, 0, 0, 0, 0, 0],\n",
       "       [0, 0, 0, 0, 0, 0, 0],\n",
       "       [0, 0, 0, 0, 0, 0, 0],\n",
       "       [0, 0, 0, 0, 0, 0, 0],\n",
       "       [0, 0, 0, 0, 0, 0, 0]])"
      ]
     },
     "execution_count": 74,
     "metadata": {},
     "output_type": "execute_result"
    }
   ],
   "source": [
    "np.zeros_like(r,dtype=int)"
   ]
  },
  {
   "cell_type": "code",
   "execution_count": 75,
   "id": "9101d2a1",
   "metadata": {},
   "outputs": [
    {
     "data": {
      "text/plain": [
       "array([[0., 0., 0., 0., 0., 0., 0.],\n",
       "       [0., 0., 0., 0., 0., 0., 0.],\n",
       "       [0., 0., 0., 0., 0., 0., 0.],\n",
       "       [0., 0., 0., 0., 0., 0., 0.],\n",
       "       [0., 0., 0., 0., 0., 0., 0.],\n",
       "       [0., 0., 0., 0., 0., 0., 0.]])"
      ]
     },
     "execution_count": 75,
     "metadata": {},
     "output_type": "execute_result"
    }
   ],
   "source": [
    "np.empty_like(r)"
   ]
  },
  {
   "cell_type": "code",
   "execution_count": 76,
   "id": "a5eead1d",
   "metadata": {},
   "outputs": [
    {
     "data": {
      "text/plain": [
       "array([[1., 1., 1., 1., 1., 1., 1.],\n",
       "       [1., 1., 1., 1., 1., 1., 1.],\n",
       "       [1., 1., 1., 1., 1., 1., 1.],\n",
       "       [1., 1., 1., 1., 1., 1., 1.],\n",
       "       [1., 1., 1., 1., 1., 1., 1.],\n",
       "       [1., 1., 1., 1., 1., 1., 1.]])"
      ]
     },
     "execution_count": 76,
     "metadata": {},
     "output_type": "execute_result"
    }
   ],
   "source": [
    "np.ones_like(r)"
   ]
  },
  {
   "cell_type": "code",
   "execution_count": 77,
   "id": "22495acb",
   "metadata": {},
   "outputs": [
    {
     "data": {
      "text/plain": [
       "array([[4128860, 6029375, 3801155, 5570652, 6619251, 7536754, 5832796],\n",
       "       [6750325, 7209057, 6815844, 7471201, 6357066, 7602279, 7340129],\n",
       "       [3014748, 7340137, 7602297, 7274600, 6029422, 7471216, 6684783],\n",
       "       [7077993, 6226021, 6619236, 6357094, 7078005, 6029428, 6881384],\n",
       "       [7602291, 7471215, 3014777, 7405683, 6881388, 6619252, 6946861],\n",
       "       [7667823, 7209074, 7077985, 7340032,     121, 8205364,     100]])"
      ]
     },
     "execution_count": 77,
     "metadata": {},
     "output_type": "execute_result"
    }
   ],
   "source": [
    "np.empty_like(r,dtype=int)"
   ]
  },
  {
   "cell_type": "code",
   "execution_count": 78,
   "id": "5eb0e01a",
   "metadata": {},
   "outputs": [
    {
     "data": {
      "text/plain": [
       "array([[1., 1., 1., 1., 1., 1., 1.],\n",
       "       [1., 1., 1., 1., 1., 1., 1.],\n",
       "       [1., 1., 1., 1., 1., 1., 1.],\n",
       "       [1., 1., 1., 1., 1., 1., 1.],\n",
       "       [1., 1., 1., 1., 1., 1., 1.],\n",
       "       [1., 1., 1., 1., 1., 1., 1.]])"
      ]
     },
     "execution_count": 78,
     "metadata": {},
     "output_type": "execute_result"
    }
   ],
   "source": [
    "np.empty_like(r)"
   ]
  },
  {
   "cell_type": "code",
   "execution_count": 79,
   "id": "71cc3150",
   "metadata": {},
   "outputs": [
    {
     "data": {
      "text/plain": [
       "array([[1., 1., 1., 1., 1., 1., 1.],\n",
       "       [1., 1., 1., 1., 1., 1., 1.],\n",
       "       [1., 1., 1., 1., 1., 1., 1.],\n",
       "       [1., 1., 1., 1., 1., 1., 1.],\n",
       "       [1., 1., 1., 1., 1., 1., 1.],\n",
       "       [1., 1., 1., 1., 1., 1., 1.]])"
      ]
     },
     "execution_count": 79,
     "metadata": {},
     "output_type": "execute_result"
    }
   ],
   "source": [
    "np.empty_like(r)"
   ]
  },
  {
   "cell_type": "code",
   "execution_count": 81,
   "id": "a084fe07",
   "metadata": {},
   "outputs": [
    {
     "data": {
      "text/plain": [
       "array([[0, 0, 0, 0, 0, 0, 0],\n",
       "       [0, 0, 0, 0, 0, 0, 0],\n",
       "       [0, 0, 0, 0, 0, 0, 0],\n",
       "       [0, 0, 0, 0, 0, 0, 0],\n",
       "       [0, 0, 0, 0, 0, 0, 0],\n",
       "       [0, 0, 0, 0, 0, 0, 0]])"
      ]
     },
     "execution_count": 81,
     "metadata": {},
     "output_type": "execute_result"
    }
   ],
   "source": [
    "np.zeros_like(r,dtype=int)"
   ]
  },
  {
   "cell_type": "code",
   "execution_count": 83,
   "id": "0e7727e6",
   "metadata": {},
   "outputs": [
    {
     "data": {
      "text/plain": [
       "array([[4128860, 6029375, 3801155, 5570652, 6619251, 7536754, 5832796],\n",
       "       [6750325, 7209057, 6815844, 7471201, 6357066, 7602279, 7340129],\n",
       "       [3014748, 7340137, 7602297, 7274600, 6029422, 7471216, 6684783],\n",
       "       [7077993, 6226021, 6619236, 6357094, 7078005, 6029428, 6881384],\n",
       "       [7602291, 7471215, 3014777, 7405683, 6881388, 6619252, 6946861],\n",
       "       [7667823, 7209074, 7077985, 7340032,     121,       0,       0]])"
      ]
     },
     "execution_count": 83,
     "metadata": {},
     "output_type": "execute_result"
    }
   ],
   "source": [
    "np.empty_like(r,dtype=int)"
   ]
  },
  {
   "cell_type": "markdown",
   "id": "acd92c73",
   "metadata": {},
   "source": [
    "# Typecasting in numpy"
   ]
  },
  {
   "cell_type": "code",
   "execution_count": 84,
   "id": "c1a4a9c9",
   "metadata": {},
   "outputs": [
    {
     "data": {
      "text/plain": [
       "array([ 0,  1,  2,  3,  4,  5,  6,  7,  8,  9, 10, 11, 12, 13, 14, 15, 16,\n",
       "       17, 18, 19])"
      ]
     },
     "execution_count": 84,
     "metadata": {},
     "output_type": "execute_result"
    }
   ],
   "source": [
    "np.arange(20)"
   ]
  },
  {
   "cell_type": "code",
   "execution_count": 85,
   "id": "2db27df4",
   "metadata": {},
   "outputs": [
    {
     "data": {
      "text/plain": [
       "dtype('int32')"
      ]
     },
     "execution_count": 85,
     "metadata": {},
     "output_type": "execute_result"
    }
   ],
   "source": [
    "np.arange(20).dtype"
   ]
  },
  {
   "cell_type": "code",
   "execution_count": 88,
   "id": "fa9fbbb5",
   "metadata": {},
   "outputs": [
    {
     "data": {
      "text/plain": [
       "array([ 0.,  1.,  2.,  3.,  4.,  5.,  6.,  7.,  8.,  9., 10., 11., 12.,\n",
       "       13., 14., 15., 16., 17., 18., 19.])"
      ]
     },
     "execution_count": 88,
     "metadata": {},
     "output_type": "execute_result"
    }
   ],
   "source": [
    "np.arange(20,dtype=float)"
   ]
  }
 ],
 "metadata": {
  "kernelspec": {
   "display_name": "Python 3 (ipykernel)",
   "language": "python",
   "name": "python3"
  },
  "language_info": {
   "codemirror_mode": {
    "name": "ipython",
    "version": 3
   },
   "file_extension": ".py",
   "mimetype": "text/x-python",
   "name": "python",
   "nbconvert_exporter": "python",
   "pygments_lexer": "ipython3",
   "version": "3.9.13"
  }
 },
 "nbformat": 4,
 "nbformat_minor": 5
}
