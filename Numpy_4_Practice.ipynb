{
 "cells": [
  {
   "cell_type": "code",
   "execution_count": 1,
   "id": "04676b30",
   "metadata": {},
   "outputs": [],
   "source": [
    "import numpy as np"
   ]
  },
  {
   "cell_type": "code",
   "execution_count": 2,
   "id": "0a23b5b6",
   "metadata": {},
   "outputs": [
    {
     "data": {
      "text/plain": [
       "array([ 1,  2,  3,  4,  5,  6,  7,  8,  9, 10, 11, 12, 13, 14, 15, 16, 17,\n",
       "       18, 19, 20, 21, 22, 23, 24])"
      ]
     },
     "execution_count": 2,
     "metadata": {},
     "output_type": "execute_result"
    }
   ],
   "source": [
    "np.arange(1,25)"
   ]
  },
  {
   "cell_type": "code",
   "execution_count": 3,
   "id": "2455845e",
   "metadata": {},
   "outputs": [
    {
     "data": {
      "text/plain": [
       "array([[ 1,  2,  3,  4,  5,  6],\n",
       "       [ 7,  8,  9, 10, 11, 12],\n",
       "       [13, 14, 15, 16, 17, 18],\n",
       "       [19, 20, 21, 22, 23, 24]])"
      ]
     },
     "execution_count": 3,
     "metadata": {},
     "output_type": "execute_result"
    }
   ],
   "source": [
    "np.arange(1,25).reshape(4,6) # row major"
   ]
  },
  {
   "cell_type": "code",
   "execution_count": 4,
   "id": "4608a687",
   "metadata": {},
   "outputs": [
    {
     "data": {
      "text/plain": [
       "array([[ 1,  5,  9, 13, 17, 21],\n",
       "       [ 2,  6, 10, 14, 18, 22],\n",
       "       [ 3,  7, 11, 15, 19, 23],\n",
       "       [ 4,  8, 12, 16, 20, 24]])"
      ]
     },
     "execution_count": 4,
     "metadata": {},
     "output_type": "execute_result"
    }
   ],
   "source": [
    "np.arange(1,25).reshape(4,6,order='f') # Column major"
   ]
  },
  {
   "cell_type": "code",
   "execution_count": 5,
   "id": "5ea30da9",
   "metadata": {},
   "outputs": [
    {
     "name": "stdout",
     "output_type": "stream",
     "text": [
      "     *** Found in numpy ***\n",
      " reshape(a, newshape, order='C')\n",
      "\n",
      "Gives a new shape to an array without changing its data.\n",
      "\n",
      "Parameters\n",
      "----------\n",
      "a : array_like\n",
      "    Array to be reshaped.\n",
      "newshape : int or tuple of ints\n",
      "    The new shape should be compatible with the original shape. If\n",
      "    an integer, then the result will be a 1-D array of that length.\n",
      "    One shape dimension can be -1. In this case, the value is\n",
      "    inferred from the length of the array and remaining dimensions.\n",
      "order : {'C', 'F', 'A'}, optional\n",
      "    Read the elements of `a` using this index order, and place the\n",
      "    elements into the reshaped array using this index order.  'C'\n",
      "    means to read / write the elements using C-like index order,\n",
      "    with the last axis index changing fastest, back to the first\n",
      "    axis index changing slowest. 'F' means to read / write the\n",
      "    elements using Fortran-like index order, with the first index\n",
      "    changing fastest, and the last index changing slowest. Note that\n",
      "    the 'C' and 'F' options take no account of the memory layout of\n",
      "    the underlying array, and only refer to the order of indexing.\n",
      "    'A' means to read / write the elements in Fortran-like index\n",
      "    order if `a` is Fortran *contiguous* in memory, C-like order\n",
      "    otherwise.\n",
      "\n",
      "Returns\n",
      "-------\n",
      "reshaped_array : ndarray\n",
      "    This will be a new view object if possible; otherwise, it will\n",
      "    be a copy.  Note there is no guarantee of the *memory layout* (C- or\n",
      "    Fortran- contiguous) of the returned array.\n",
      "\n",
      "See Also\n",
      "--------\n",
      "ndarray.reshape : Equivalent method.\n",
      "\n",
      "Notes\n",
      "-----\n",
      "It is not always possible to change the shape of an array without\n",
      "copying the data. If you want an error to be raised when the data is copied,\n",
      "you should assign the new shape to the shape attribute of the array::\n",
      "\n",
      " >>> a = np.zeros((10, 2))\n",
      "\n",
      " # A transpose makes the array non-contiguous\n",
      " >>> b = a.T\n",
      "\n",
      " # Taking a view makes it possible to modify the shape without modifying\n",
      " # the initial object.\n",
      " >>> c = b.view()\n",
      " >>> c.shape = (20)\n",
      " Traceback (most recent call last):\n",
      "    ...\n",
      " AttributeError: Incompatible shape for in-place modification. Use\n",
      " `.reshape()` to make a copy with the desired shape.\n",
      "\n",
      "The `order` keyword gives the index ordering both for *fetching* the values\n",
      "from `a`, and then *placing* the values into the output array.\n",
      "For example, let's say you have an array:\n",
      "\n",
      ">>> a = np.arange(6).reshape((3, 2))\n",
      ">>> a\n",
      "array([[0, 1],\n",
      "       [2, 3],\n",
      "       [4, 5]])\n",
      "\n",
      "You can think of reshaping as first raveling the array (using the given\n",
      "index order), then inserting the elements from the raveled array into the\n",
      "new array using the same kind of index ordering as was used for the\n",
      "raveling.\n",
      "\n",
      ">>> np.reshape(a, (2, 3)) # C-like index ordering\n",
      "array([[0, 1, 2],\n",
      "       [3, 4, 5]])\n",
      ">>> np.reshape(np.ravel(a), (2, 3)) # equivalent to C ravel then C reshape\n",
      "array([[0, 1, 2],\n",
      "       [3, 4, 5]])\n",
      ">>> np.reshape(a, (2, 3), order='F') # Fortran-like index ordering\n",
      "array([[0, 4, 3],\n",
      "       [2, 1, 5]])\n",
      ">>> np.reshape(np.ravel(a, order='F'), (2, 3), order='F')\n",
      "array([[0, 4, 3],\n",
      "       [2, 1, 5]])\n",
      "\n",
      "Examples\n",
      "--------\n",
      ">>> a = np.array([[1,2,3], [4,5,6]])\n",
      ">>> np.reshape(a, 6)\n",
      "array([1, 2, 3, 4, 5, 6])\n",
      ">>> np.reshape(a, 6, order='F')\n",
      "array([1, 4, 2, 5, 3, 6])\n",
      "\n",
      ">>> np.reshape(a, (3,-1))       # the unspecified value is inferred to be 2\n",
      "array([[1, 2],\n",
      "       [3, 4],\n",
      "       [5, 6]])\n",
      "----------------------------------------------------------------------------\n",
      "\n",
      "     *** Repeat reference found in numpy.core *** \n",
      "     *** Found in numpy.ma ***\n",
      " reshape(a, new_shape, order='C')\n",
      "\n",
      "Returns an array containing the same data with a new shape.\n",
      "\n",
      "Refer to `MaskedArray.reshape` for full documentation.\n",
      "\n",
      "See Also\n",
      "--------\n",
      "MaskedArray.reshape : equivalent function\n",
      "----------------------------------------------------------------------------\n",
      "\n",
      "     *** Repeat reference found in numpy.core.fromnumeric *** \n",
      "\n",
      "     *** Repeat reference found in numpy.core.numeric *** \n",
      "\n",
      "     *** Repeat reference found in numpy.lib.shape_base *** \n",
      "\n",
      "     *** Repeat reference found in numpy.ma.core *** \n",
      "\n",
      "     *** Total of 7 references found. ***\n"
     ]
    }
   ],
   "source": [
    "np.info('reshape')"
   ]
  },
  {
   "cell_type": "code",
   "execution_count": 6,
   "id": "2b75de4f",
   "metadata": {},
   "outputs": [
    {
     "data": {
      "text/plain": [
       "array([[ 1,  2,  3,  4,  5,  6],\n",
       "       [ 7,  8,  9, 10, 11, 12],\n",
       "       [13, 14, 15, 16, 17, 18],\n",
       "       [19, 20, 21, 22, 23, 24]])"
      ]
     },
     "execution_count": 6,
     "metadata": {},
     "output_type": "execute_result"
    }
   ],
   "source": [
    "np.arange(1,25).reshape(4,6,order='C') "
   ]
  },
  {
   "cell_type": "code",
   "execution_count": 7,
   "id": "61473c53",
   "metadata": {},
   "outputs": [
    {
     "data": {
      "text/plain": [
       "array([[ 1,  2,  3,  4,  5,  6],\n",
       "       [ 7,  8,  9, 10, 11, 12],\n",
       "       [13, 14, 15, 16, 17, 18],\n",
       "       [19, 20, 21, 22, 23, 24]])"
      ]
     },
     "execution_count": 7,
     "metadata": {},
     "output_type": "execute_result"
    }
   ],
   "source": [
    "np.arange(1,25).reshape(4,6,order='A') #without chnging data"
   ]
  },
  {
   "cell_type": "code",
   "execution_count": 8,
   "id": "65798eef",
   "metadata": {},
   "outputs": [
    {
     "data": {
      "text/plain": [
       "array([[ 1,  2,  3,  4,  5,  6],\n",
       "       [ 7,  8,  9, 10, 11, 12],\n",
       "       [13, 14, 15, 16, 17, 18],\n",
       "       [19, 20, 21, 22, 23, 24]])"
      ]
     },
     "execution_count": 8,
     "metadata": {},
     "output_type": "execute_result"
    }
   ],
   "source": [
    "a = np.arange(1,25).reshape(4,6)\n",
    "a"
   ]
  },
  {
   "cell_type": "code",
   "execution_count": 10,
   "id": "2acd47dd",
   "metadata": {},
   "outputs": [
    {
     "data": {
      "text/plain": [
       "array([ 1,  2,  3,  4,  5,  6,  7,  8,  9, 10, 11, 12, 13, 14, 15, 16, 17,\n",
       "       18, 19, 20, 21, 22, 23, 24])"
      ]
     },
     "execution_count": 10,
     "metadata": {},
     "output_type": "execute_result"
    }
   ],
   "source": [
    "b=np.arange(1,25)\n",
    "b"
   ]
  },
  {
   "cell_type": "code",
   "execution_count": 11,
   "id": "dbbe6d9d",
   "metadata": {},
   "outputs": [
    {
     "data": {
      "text/plain": [
       "array([[ 1,  7, 13, 19],\n",
       "       [ 2,  8, 14, 20],\n",
       "       [ 3,  9, 15, 21],\n",
       "       [ 4, 10, 16, 22],\n",
       "       [ 5, 11, 17, 23],\n",
       "       [ 6, 12, 18, 24]])"
      ]
     },
     "execution_count": 11,
     "metadata": {},
     "output_type": "execute_result"
    }
   ],
   "source": [
    "b.reshape(6,4,order='f')"
   ]
  },
  {
   "cell_type": "code",
   "execution_count": 12,
   "id": "d21c9c90",
   "metadata": {},
   "outputs": [
    {
     "data": {
      "text/plain": [
       "array([[ 1,  2,  3,  4],\n",
       "       [ 5,  6,  7,  8],\n",
       "       [ 9, 10, 11, 12],\n",
       "       [13, 14, 15, 16],\n",
       "       [17, 18, 19, 20],\n",
       "       [21, 22, 23, 24]])"
      ]
     },
     "execution_count": 12,
     "metadata": {},
     "output_type": "execute_result"
    }
   ],
   "source": [
    "b.reshape(6,4,order='C')"
   ]
  },
  {
   "cell_type": "code",
   "execution_count": 13,
   "id": "dd76936d",
   "metadata": {},
   "outputs": [
    {
     "data": {
      "text/plain": [
       "array([ 1,  2,  3,  4,  5,  6,  7,  8,  9, 10, 11, 12, 13, 14, 15, 16, 17,\n",
       "       18, 19, 20, 21, 22, 23, 24])"
      ]
     },
     "execution_count": 13,
     "metadata": {},
     "output_type": "execute_result"
    }
   ],
   "source": [
    "b       # b is unchanged"
   ]
  },
  {
   "cell_type": "code",
   "execution_count": 14,
   "id": "04135659",
   "metadata": {},
   "outputs": [
    {
     "data": {
      "text/plain": [
       "array([[ 1,  7, 13, 19],\n",
       "       [ 2,  8, 14, 20],\n",
       "       [ 3,  9, 15, 21],\n",
       "       [ 4, 10, 16, 22],\n",
       "       [ 5, 11, 17, 23],\n",
       "       [ 6, 12, 18, 24]])"
      ]
     },
     "execution_count": 14,
     "metadata": {},
     "output_type": "execute_result"
    }
   ],
   "source": [
    "b = b.reshape(6,4,order='F')\n",
    "b"
   ]
  },
  {
   "cell_type": "markdown",
   "id": "673a2191",
   "metadata": {},
   "source": [
    "# Conditional based selection"
   ]
  },
  {
   "cell_type": "code",
   "execution_count": 15,
   "id": "eef59148",
   "metadata": {},
   "outputs": [
    {
     "data": {
      "text/plain": [
       "array([[ 1,  2,  3,  4,  5,  6],\n",
       "       [ 7,  8,  9, 10, 11, 12],\n",
       "       [13, 14, 15, 16, 17, 18],\n",
       "       [19, 20, 21, 22, 23, 24]])"
      ]
     },
     "execution_count": 15,
     "metadata": {},
     "output_type": "execute_result"
    }
   ],
   "source": [
    "a"
   ]
  },
  {
   "cell_type": "code",
   "execution_count": 16,
   "id": "96d76e0f",
   "metadata": {},
   "outputs": [
    {
     "data": {
      "text/plain": [
       "array([[False, False, False, False, False, False],\n",
       "       [False, False, False, False,  True,  True],\n",
       "       [ True,  True,  True,  True,  True,  True],\n",
       "       [ True,  True,  True,  True,  True,  True]])"
      ]
     },
     "execution_count": 16,
     "metadata": {},
     "output_type": "execute_result"
    }
   ],
   "source": [
    "#fetch values >10\n",
    "a > 10 \n",
    "#performs elementwise operation\n",
    "#it give u an array of boolean output "
   ]
  },
  {
   "cell_type": "code",
   "execution_count": 17,
   "id": "bfcb894a",
   "metadata": {},
   "outputs": [
    {
     "data": {
      "text/plain": [
       "array([11, 12, 13, 14, 15, 16, 17, 18, 19, 20, 21, 22, 23, 24])"
      ]
     },
     "execution_count": 17,
     "metadata": {},
     "output_type": "execute_result"
    }
   ],
   "source": [
    "#boolean indexing is supported\n",
    "a[a > 10]"
   ]
  },
  {
   "cell_type": "code",
   "execution_count": 18,
   "id": "ff4b772f",
   "metadata": {},
   "outputs": [
    {
     "data": {
      "text/plain": [
       "array([[ 1,  2,  3,  4,  5,  6],\n",
       "       [13, 14, 15, 16, 17, 18]])"
      ]
     },
     "execution_count": 18,
     "metadata": {},
     "output_type": "execute_result"
    }
   ],
   "source": [
    "# Concept of Boolean indexing\n",
    "# total 4 rows present in a\n",
    "# indexing works on rows: and we are supplying boolean index\n",
    "a[ [True,False,True,False] ]"
   ]
  },
  {
   "cell_type": "code",
   "execution_count": 19,
   "id": "1e5ada81",
   "metadata": {},
   "outputs": [
    {
     "data": {
      "text/plain": [
       "array([[13, 14, 15, 16, 17, 18]])"
      ]
     },
     "execution_count": 19,
     "metadata": {},
     "output_type": "execute_result"
    }
   ],
   "source": [
    "a[ [False,False,True,False] ]"
   ]
  },
  {
   "cell_type": "code",
   "execution_count": 20,
   "id": "9e1be79e",
   "metadata": {},
   "outputs": [
    {
     "data": {
      "text/plain": [
       "array([[ 1,  2,  3,  4,  5,  6],\n",
       "       [ 7,  8,  9, 10, 11, 12],\n",
       "       [13, 14, 15, 16, 17, 18],\n",
       "       [19, 20, 21, 22, 23, 24]])"
      ]
     },
     "execution_count": 20,
     "metadata": {},
     "output_type": "execute_result"
    }
   ],
   "source": [
    "a"
   ]
  },
  {
   "cell_type": "code",
   "execution_count": 21,
   "id": "900442ad",
   "metadata": {},
   "outputs": [
    {
     "data": {
      "text/plain": [
       "array([[False, False, False, False,  True, False],\n",
       "       [False, False, False,  True, False, False],\n",
       "       [False, False,  True, False, False, False],\n",
       "       [False,  True, False, False, False, False]])"
      ]
     },
     "execution_count": 21,
     "metadata": {},
     "output_type": "execute_result"
    }
   ],
   "source": [
    "# more than one condition we want to test\n",
    "#fetch values divisible by 5 and 7\n",
    "a % 5 == 0"
   ]
  },
  {
   "cell_type": "code",
   "execution_count": 22,
   "id": "6a17572d",
   "metadata": {},
   "outputs": [
    {
     "data": {
      "text/plain": [
       "array([[False, False, False, False, False, False],\n",
       "       [ True, False, False, False, False, False],\n",
       "       [False,  True, False, False, False, False],\n",
       "       [False, False,  True, False, False, False]])"
      ]
     },
     "execution_count": 22,
     "metadata": {},
     "output_type": "execute_result"
    }
   ],
   "source": [
    "a % 7 ==0"
   ]
  },
  {
   "cell_type": "code",
   "execution_count": 23,
   "id": "807d10c1",
   "metadata": {},
   "outputs": [
    {
     "data": {
      "text/plain": [
       "array([[False, False, False, False,  True, False],\n",
       "       [ True, False, False,  True, False, False],\n",
       "       [False,  True,  True, False, False, False],\n",
       "       [False,  True,  True, False, False, False]])"
      ]
     },
     "execution_count": 23,
     "metadata": {},
     "output_type": "execute_result"
    }
   ],
   "source": [
    "#Logical: and or not\n",
    "# bitwise: &(and) |(or) ~(not) ^(XOR)\n",
    "(a % 5==0) | (a % 7 ==0)"
   ]
  },
  {
   "cell_type": "code",
   "execution_count": 24,
   "id": "d042ab6b",
   "metadata": {},
   "outputs": [
    {
     "data": {
      "text/plain": [
       "array([10, 20])"
      ]
     },
     "execution_count": 24,
     "metadata": {},
     "output_type": "execute_result"
    }
   ],
   "source": [
    "#fetch values divisible by 5 and 10\n",
    "a[(a%5 ==0) & (a%10 == 0)]\n"
   ]
  },
  {
   "cell_type": "code",
   "execution_count": 25,
   "id": "bc0e51b0",
   "metadata": {},
   "outputs": [
    {
     "data": {
      "text/plain": [
       "array([ 5, 10, 15, 20, 21])"
      ]
     },
     "execution_count": 25,
     "metadata": {},
     "output_type": "execute_result"
    }
   ],
   "source": [
    "a[(a%5==0 | (a%7==0))]"
   ]
  },
  {
   "cell_type": "code",
   "execution_count": 26,
   "id": "9b627fe6",
   "metadata": {},
   "outputs": [
    {
     "data": {
      "text/plain": [
       "array([[ 1,  2,  3,  4,  5,  6],\n",
       "       [ 7,  8,  9, 10, 11, 12],\n",
       "       [13, 14, 15, 16, 17, 18],\n",
       "       [19, 20, 21, 22, 23, 24]])"
      ]
     },
     "execution_count": 26,
     "metadata": {},
     "output_type": "execute_result"
    }
   ],
   "source": [
    "a"
   ]
  },
  {
   "cell_type": "code",
   "execution_count": 27,
   "id": "d98a0f31",
   "metadata": {},
   "outputs": [
    {
     "data": {
      "text/plain": [
       "array([[False, False, False, False, False, False],\n",
       "       [False, False, False, False, False, False],\n",
       "       [False, False, False, False, False, False],\n",
       "       [ True,  True,  True,  True,  True,  True]])"
      ]
     },
     "execution_count": 27,
     "metadata": {},
     "output_type": "execute_result"
    }
   ],
   "source": [
    "a>18"
   ]
  },
  {
   "cell_type": "code",
   "execution_count": 28,
   "id": "5502a2d5",
   "metadata": {},
   "outputs": [
    {
     "data": {
      "text/plain": [
       "array([19, 20, 21, 22, 23, 24])"
      ]
     },
     "execution_count": 28,
     "metadata": {},
     "output_type": "execute_result"
    }
   ],
   "source": [
    "a[a>18]"
   ]
  },
  {
   "cell_type": "markdown",
   "id": "5620a923",
   "metadata": {},
   "source": [
    "# Can we compare 2 arrays?"
   ]
  },
  {
   "cell_type": "code",
   "execution_count": 29,
   "id": "a182ad4b",
   "metadata": {},
   "outputs": [
    {
     "data": {
      "text/plain": [
       "array([[1, 2],\n",
       "       [3, 4]])"
      ]
     },
     "execution_count": 29,
     "metadata": {},
     "output_type": "execute_result"
    }
   ],
   "source": [
    "x=np.array([[1,2],[3,4]])\n",
    "x"
   ]
  },
  {
   "cell_type": "code",
   "execution_count": 30,
   "id": "61feefa4",
   "metadata": {},
   "outputs": [
    {
     "data": {
      "text/plain": [
       "array([[5, 6],\n",
       "       [7, 8]])"
      ]
     },
     "execution_count": 30,
     "metadata": {},
     "output_type": "execute_result"
    }
   ],
   "source": [
    "y=np.array([[5,6],[7,8]])\n",
    "y"
   ]
  },
  {
   "cell_type": "code",
   "execution_count": 31,
   "id": "b1ceba59",
   "metadata": {},
   "outputs": [
    {
     "data": {
      "text/plain": [
       "array([[ True,  True],\n",
       "       [ True,  True]])"
      ]
     },
     "execution_count": 31,
     "metadata": {},
     "output_type": "execute_result"
    }
   ],
   "source": [
    "x<y"
   ]
  },
  {
   "cell_type": "code",
   "execution_count": 32,
   "id": "0a1803c7",
   "metadata": {},
   "outputs": [
    {
     "data": {
      "text/plain": [
       "array([[False, False],\n",
       "       [False, False]])"
      ]
     },
     "execution_count": 32,
     "metadata": {},
     "output_type": "execute_result"
    }
   ],
   "source": [
    "x>y"
   ]
  },
  {
   "cell_type": "code",
   "execution_count": 33,
   "id": "fc58d771",
   "metadata": {},
   "outputs": [
    {
     "data": {
      "text/plain": [
       "array([1, 2, 3, 4])"
      ]
     },
     "execution_count": 33,
     "metadata": {},
     "output_type": "execute_result"
    }
   ],
   "source": [
    "x[x<y]"
   ]
  },
  {
   "cell_type": "code",
   "execution_count": 34,
   "id": "a067a34f",
   "metadata": {},
   "outputs": [
    {
     "data": {
      "text/plain": [
       "array([5, 6, 7, 8])"
      ]
     },
     "execution_count": 34,
     "metadata": {},
     "output_type": "execute_result"
    }
   ],
   "source": [
    "y[x<y]"
   ]
  },
  {
   "cell_type": "code",
   "execution_count": 35,
   "id": "240b34c4",
   "metadata": {},
   "outputs": [
    {
     "data": {
      "text/plain": [
       "array([], dtype=int32)"
      ]
     },
     "execution_count": 35,
     "metadata": {},
     "output_type": "execute_result"
    }
   ],
   "source": [
    "x[x>y]"
   ]
  },
  {
   "cell_type": "code",
   "execution_count": 36,
   "id": "80329517",
   "metadata": {},
   "outputs": [
    {
     "data": {
      "text/plain": [
       "array([], dtype=int32)"
      ]
     },
     "execution_count": 36,
     "metadata": {},
     "output_type": "execute_result"
    }
   ],
   "source": [
    "y[x>y]"
   ]
  },
  {
   "cell_type": "markdown",
   "id": "467d9352",
   "metadata": {},
   "source": [
    "# Scalar mathematics over numpy array"
   ]
  },
  {
   "cell_type": "code",
   "execution_count": 37,
   "id": "53e0e71b",
   "metadata": {},
   "outputs": [
    {
     "data": {
      "text/plain": [
       "array([[1, 2],\n",
       "       [3, 4]])"
      ]
     },
     "execution_count": 37,
     "metadata": {},
     "output_type": "execute_result"
    }
   ],
   "source": [
    "x"
   ]
  },
  {
   "cell_type": "code",
   "execution_count": 38,
   "id": "2c4e19f4",
   "metadata": {},
   "outputs": [
    {
     "data": {
      "text/plain": [
       "array([[11, 12],\n",
       "       [13, 14]])"
      ]
     },
     "execution_count": 38,
     "metadata": {},
     "output_type": "execute_result"
    }
   ],
   "source": [
    "#add 10 in each element\n",
    "x+10\n",
    "#output is temp."
   ]
  },
  {
   "cell_type": "code",
   "execution_count": 39,
   "id": "31a03250",
   "metadata": {},
   "outputs": [
    {
     "data": {
      "text/plain": [
       "array([[1, 2],\n",
       "       [3, 4]])"
      ]
     },
     "execution_count": 39,
     "metadata": {},
     "output_type": "execute_result"
    }
   ],
   "source": [
    "x"
   ]
  },
  {
   "cell_type": "code",
   "execution_count": 41,
   "id": "b15c69d7",
   "metadata": {},
   "outputs": [
    {
     "data": {
      "text/plain": [
       "array([[21, 22],\n",
       "       [23, 24]])"
      ]
     },
     "execution_count": 41,
     "metadata": {},
     "output_type": "execute_result"
    }
   ],
   "source": [
    "# for permant result use asignment operator\n",
    "x+=10\n",
    "x\n",
    "#changes persist in x , inplace operation"
   ]
  },
  {
   "cell_type": "code",
   "execution_count": 42,
   "id": "89f4c54e",
   "metadata": {},
   "outputs": [
    {
     "data": {
      "text/plain": [
       "array([[21, 22],\n",
       "       [23, 24]])"
      ]
     },
     "execution_count": 42,
     "metadata": {},
     "output_type": "execute_result"
    }
   ],
   "source": [
    "x"
   ]
  },
  {
   "cell_type": "code",
   "execution_count": 43,
   "id": "e41ea474",
   "metadata": {},
   "outputs": [
    {
     "data": {
      "text/plain": [
       "array([[5, 6],\n",
       "       [7, 8]])"
      ]
     },
     "execution_count": 43,
     "metadata": {},
     "output_type": "execute_result"
    }
   ],
   "source": [
    "y"
   ]
  },
  {
   "cell_type": "code",
   "execution_count": 45,
   "id": "c7007c14",
   "metadata": {},
   "outputs": [
    {
     "data": {
      "text/plain": [
       "array([[25, 26],\n",
       "       [27, 28]])"
      ]
     },
     "execution_count": 45,
     "metadata": {},
     "output_type": "execute_result"
    }
   ],
   "source": [
    "y+=10\n",
    "y"
   ]
  },
  {
   "cell_type": "code",
   "execution_count": 46,
   "id": "572595a9",
   "metadata": {},
   "outputs": [
    {
     "data": {
      "text/plain": [
       "array([[25, 26],\n",
       "       [27, 28]])"
      ]
     },
     "execution_count": 46,
     "metadata": {},
     "output_type": "execute_result"
    }
   ],
   "source": [
    "y"
   ]
  },
  {
   "cell_type": "code",
   "execution_count": 47,
   "id": "89c7d146",
   "metadata": {},
   "outputs": [
    {
     "data": {
      "text/plain": [
       "array([[6, 7],\n",
       "       [3, 5]])"
      ]
     },
     "execution_count": 47,
     "metadata": {},
     "output_type": "execute_result"
    }
   ],
   "source": [
    "z=np.array([[6,7],[3,5]])\n",
    "z"
   ]
  },
  {
   "cell_type": "code",
   "execution_count": 48,
   "id": "a5fe0423",
   "metadata": {},
   "outputs": [
    {
     "data": {
      "text/plain": [
       "array([[16, 17],\n",
       "       [13, 15]])"
      ]
     },
     "execution_count": 48,
     "metadata": {},
     "output_type": "execute_result"
    }
   ],
   "source": [
    "z + 10"
   ]
  },
  {
   "cell_type": "code",
   "execution_count": 49,
   "id": "b0e5f95a",
   "metadata": {},
   "outputs": [
    {
     "data": {
      "text/plain": [
       "array([[6, 7],\n",
       "       [3, 5]])"
      ]
     },
     "execution_count": 49,
     "metadata": {},
     "output_type": "execute_result"
    }
   ],
   "source": [
    "z"
   ]
  },
  {
   "cell_type": "code",
   "execution_count": 51,
   "id": "740abfff",
   "metadata": {},
   "outputs": [
    {
     "data": {
      "text/plain": [
       "array([[26, 27],\n",
       "       [23, 25]])"
      ]
     },
     "execution_count": 51,
     "metadata": {},
     "output_type": "execute_result"
    }
   ],
   "source": [
    "z+=10\n",
    "z"
   ]
  },
  {
   "cell_type": "code",
   "execution_count": 52,
   "id": "85bdc2f6",
   "metadata": {},
   "outputs": [
    {
     "data": {
      "text/plain": [
       "array([[26, 27],\n",
       "       [23, 25]])"
      ]
     },
     "execution_count": 52,
     "metadata": {},
     "output_type": "execute_result"
    }
   ],
   "source": [
    "z"
   ]
  },
  {
   "cell_type": "code",
   "execution_count": 53,
   "id": "c240349f",
   "metadata": {},
   "outputs": [
    {
     "data": {
      "text/plain": [
       "array([[36, 37],\n",
       "       [33, 35]])"
      ]
     },
     "execution_count": 53,
     "metadata": {},
     "output_type": "execute_result"
    }
   ],
   "source": [
    "z+10"
   ]
  },
  {
   "cell_type": "code",
   "execution_count": 54,
   "id": "88504a8e",
   "metadata": {},
   "outputs": [
    {
     "data": {
      "text/plain": [
       "array([[26, 27],\n",
       "       [23, 25]])"
      ]
     },
     "execution_count": 54,
     "metadata": {},
     "output_type": "execute_result"
    }
   ],
   "source": [
    "z"
   ]
  },
  {
   "cell_type": "code",
   "execution_count": 55,
   "id": "efe850fc",
   "metadata": {},
   "outputs": [
    {
     "data": {
      "text/plain": [
       "array([[36, 37],\n",
       "       [33, 35]])"
      ]
     },
     "execution_count": 55,
     "metadata": {},
     "output_type": "execute_result"
    }
   ],
   "source": [
    "z+=10\n",
    "z"
   ]
  },
  {
   "cell_type": "code",
   "execution_count": 56,
   "id": "931b0faa",
   "metadata": {},
   "outputs": [
    {
     "data": {
      "text/plain": [
       "array([[31, 32],\n",
       "       [33, 34]])"
      ]
     },
     "execution_count": 56,
     "metadata": {},
     "output_type": "execute_result"
    }
   ],
   "source": [
    "#Using np.add 10\n",
    "np.add(x,10)\n",
    "#output is temp."
   ]
  },
  {
   "cell_type": "code",
   "execution_count": 57,
   "id": "f7c1599d",
   "metadata": {},
   "outputs": [
    {
     "data": {
      "text/plain": [
       "array([[21, 22],\n",
       "       [23, 24]])"
      ]
     },
     "execution_count": 57,
     "metadata": {},
     "output_type": "execute_result"
    }
   ],
   "source": [
    "x"
   ]
  },
  {
   "cell_type": "code",
   "execution_count": 58,
   "id": "d6e358fe",
   "metadata": {},
   "outputs": [
    {
     "data": {
      "text/plain": [
       "array([[21, 22],\n",
       "       [23, 24]])"
      ]
     },
     "metadata": {},
     "output_type": "display_data"
    },
    {
     "data": {
      "text/plain": [
       "array([[25, 26],\n",
       "       [27, 28]])"
      ]
     },
     "metadata": {},
     "output_type": "display_data"
    },
    {
     "data": {
      "text/plain": [
       "array([[46, 48],\n",
       "       [50, 52]])"
      ]
     },
     "execution_count": 58,
     "metadata": {},
     "output_type": "execute_result"
    }
   ],
   "source": [
    "# if u want to do the addition of x , y [ vector addition]\n",
    "display(x,y)\n",
    "x + y"
   ]
  },
  {
   "cell_type": "code",
   "execution_count": 59,
   "id": "be4c7418",
   "metadata": {},
   "outputs": [
    {
     "data": {
      "text/plain": [
       "array([[21, 22],\n",
       "       [23, 24]])"
      ]
     },
     "execution_count": 59,
     "metadata": {},
     "output_type": "execute_result"
    }
   ],
   "source": [
    "x"
   ]
  },
  {
   "cell_type": "code",
   "execution_count": 60,
   "id": "4cb973af",
   "metadata": {},
   "outputs": [
    {
     "data": {
      "text/plain": [
       "array([[25, 26],\n",
       "       [27, 28]])"
      ]
     },
     "execution_count": 60,
     "metadata": {},
     "output_type": "execute_result"
    }
   ],
   "source": [
    "y"
   ]
  },
  {
   "cell_type": "code",
   "execution_count": 61,
   "id": "85680f14",
   "metadata": {},
   "outputs": [
    {
     "data": {
      "text/plain": [
       "array([[46, 48],\n",
       "       [50, 52]])"
      ]
     },
     "execution_count": 61,
     "metadata": {},
     "output_type": "execute_result"
    }
   ],
   "source": [
    "np.add(x,y)"
   ]
  },
  {
   "cell_type": "code",
   "execution_count": 62,
   "id": "c5399bd6",
   "metadata": {},
   "outputs": [
    {
     "data": {
      "text/plain": [
       "array([[11, 12],\n",
       "       [13, 14]])"
      ]
     },
     "execution_count": 62,
     "metadata": {},
     "output_type": "execute_result"
    }
   ],
   "source": [
    "#Use np.subtract()\n",
    "np.subtract(x,10)# output is temp."
   ]
  },
  {
   "cell_type": "code",
   "execution_count": 63,
   "id": "5b045336",
   "metadata": {},
   "outputs": [
    {
     "data": {
      "text/plain": [
       "array([[21, 22],\n",
       "       [23, 24]])"
      ]
     },
     "execution_count": 63,
     "metadata": {},
     "output_type": "execute_result"
    }
   ],
   "source": [
    "x"
   ]
  },
  {
   "cell_type": "code",
   "execution_count": 64,
   "id": "3839d2da",
   "metadata": {},
   "outputs": [
    {
     "ename": "AttributeError",
     "evalue": "module 'numpy' has no attribute 'substract'",
     "output_type": "error",
     "traceback": [
      "\u001b[1;31m---------------------------------------------------------------------------\u001b[0m",
      "\u001b[1;31mAttributeError\u001b[0m                            Traceback (most recent call last)",
      "\u001b[1;32m~\\AppData\\Local\\Temp\\ipykernel_8752\\2403208936.py\u001b[0m in \u001b[0;36m<module>\u001b[1;34m\u001b[0m\n\u001b[1;32m----> 1\u001b[1;33m \u001b[0mnp\u001b[0m\u001b[1;33m.\u001b[0m\u001b[0msubstract\u001b[0m\u001b[1;33m(\u001b[0m\u001b[0mx\u001b[0m\u001b[1;33m,\u001b[0m\u001b[0my\u001b[0m\u001b[1;33m)\u001b[0m\u001b[1;33m\u001b[0m\u001b[1;33m\u001b[0m\u001b[0m\n\u001b[0m",
      "\u001b[1;32mC:\\ProgramData\\Anaconda3\\lib\\site-packages\\numpy\\__init__.py\u001b[0m in \u001b[0;36m__getattr__\u001b[1;34m(attr)\u001b[0m\n\u001b[0;32m    311\u001b[0m                 \u001b[1;32mreturn\u001b[0m \u001b[0mTester\u001b[0m\u001b[1;33m\u001b[0m\u001b[1;33m\u001b[0m\u001b[0m\n\u001b[0;32m    312\u001b[0m \u001b[1;33m\u001b[0m\u001b[0m\n\u001b[1;32m--> 313\u001b[1;33m             raise AttributeError(\"module {!r} has no attribute \"\n\u001b[0m\u001b[0;32m    314\u001b[0m                                  \"{!r}\".format(__name__, attr))\n\u001b[0;32m    315\u001b[0m \u001b[1;33m\u001b[0m\u001b[0m\n",
      "\u001b[1;31mAttributeError\u001b[0m: module 'numpy' has no attribute 'substract'"
     ]
    }
   ],
   "source": [
    "np.substract(x,y)"
   ]
  },
  {
   "cell_type": "code",
   "execution_count": 65,
   "id": "48e1129e",
   "metadata": {},
   "outputs": [
    {
     "data": {
      "text/plain": [
       "array([[2.1, 2.2],\n",
       "       [2.3, 2.4]])"
      ]
     },
     "execution_count": 65,
     "metadata": {},
     "output_type": "execute_result"
    }
   ],
   "source": [
    "np.divide(x,10)"
   ]
  },
  {
   "cell_type": "code",
   "execution_count": 67,
   "id": "e4ad2569",
   "metadata": {},
   "outputs": [
    {
     "data": {
      "text/plain": [
       "array([[250, 260],\n",
       "       [270, 280]])"
      ]
     },
     "execution_count": 67,
     "metadata": {},
     "output_type": "execute_result"
    }
   ],
   "source": [
    "np.multiply(y,10)"
   ]
  },
  {
   "cell_type": "code",
   "execution_count": 68,
   "id": "03fb5083",
   "metadata": {},
   "outputs": [
    {
     "data": {
      "text/plain": [
       "array([[2, 2],\n",
       "       [2, 2]], dtype=int32)"
      ]
     },
     "execution_count": 68,
     "metadata": {},
     "output_type": "execute_result"
    }
   ],
   "source": [
    "np.floor_divide(x,10)"
   ]
  },
  {
   "cell_type": "code",
   "execution_count": 69,
   "id": "2899ae15",
   "metadata": {},
   "outputs": [
    {
     "data": {
      "text/plain": [
       "array([[2, 2],\n",
       "       [2, 2]], dtype=int32)"
      ]
     },
     "execution_count": 69,
     "metadata": {},
     "output_type": "execute_result"
    }
   ],
   "source": [
    "np.floor_divide(y,10)"
   ]
  },
  {
   "cell_type": "code",
   "execution_count": 70,
   "id": "38dff717",
   "metadata": {},
   "outputs": [
    {
     "data": {
      "text/plain": [
       "array([[21, 22],\n",
       "       [23, 24]])"
      ]
     },
     "execution_count": 70,
     "metadata": {},
     "output_type": "execute_result"
    }
   ],
   "source": [
    "x"
   ]
  },
  {
   "cell_type": "code",
   "execution_count": 71,
   "id": "e0cc9ee6",
   "metadata": {},
   "outputs": [
    {
     "data": {
      "text/plain": [
       "array([[25, 26],\n",
       "       [27, 28]])"
      ]
     },
     "execution_count": 71,
     "metadata": {},
     "output_type": "execute_result"
    }
   ],
   "source": [
    "y"
   ]
  },
  {
   "cell_type": "code",
   "execution_count": 72,
   "id": "6ae5b3f0",
   "metadata": {},
   "outputs": [
    {
     "data": {
      "text/plain": [
       "array([[1, 0],\n",
       "       [1, 0]], dtype=int32)"
      ]
     },
     "execution_count": 72,
     "metadata": {},
     "output_type": "execute_result"
    }
   ],
   "source": [
    "np.mod(x,2)"
   ]
  },
  {
   "cell_type": "code",
   "execution_count": 73,
   "id": "f0879db5",
   "metadata": {},
   "outputs": [
    {
     "data": {
      "text/plain": [
       "array([[5, 6],\n",
       "       [7, 8]], dtype=int32)"
      ]
     },
     "execution_count": 73,
     "metadata": {},
     "output_type": "execute_result"
    }
   ],
   "source": [
    "np.mod(y,10)"
   ]
  },
  {
   "cell_type": "code",
   "execution_count": 74,
   "id": "51a1f68a",
   "metadata": {},
   "outputs": [
    {
     "data": {
      "text/plain": [
       "array([[194481, 234256],\n",
       "       [279841, 331776]], dtype=int32)"
      ]
     },
     "execution_count": 74,
     "metadata": {},
     "output_type": "execute_result"
    }
   ],
   "source": [
    "np.power(x,4)"
   ]
  },
  {
   "cell_type": "code",
   "execution_count": 75,
   "id": "634f0a5f",
   "metadata": {},
   "outputs": [
    {
     "data": {
      "text/plain": [
       "array([[21, 22],\n",
       "       [23, 24]])"
      ]
     },
     "execution_count": 75,
     "metadata": {},
     "output_type": "execute_result"
    }
   ],
   "source": [
    "x"
   ]
  },
  {
   "cell_type": "code",
   "execution_count": 76,
   "id": "806ee2fc",
   "metadata": {},
   "outputs": [
    {
     "data": {
      "text/plain": [
       "array([[ True,  True,  True,  True],\n",
       "       [ True,  True,  True,  True],\n",
       "       [ True,  True,  True,  True],\n",
       "       [ True,  True,  True,  True]])"
      ]
     },
     "execution_count": 76,
     "metadata": {},
     "output_type": "execute_result"
    }
   ],
   "source": [
    "# We want an array 4 X 4 in whcih all values must be True\n",
    "np.full((4,4),True)"
   ]
  },
  {
   "cell_type": "code",
   "execution_count": 77,
   "id": "d54a46c3",
   "metadata": {},
   "outputs": [
    {
     "data": {
      "text/plain": [
       "array([[ True,  True,  True,  True],\n",
       "       [ True,  True,  True,  True],\n",
       "       [ True,  True,  True,  True],\n",
       "       [ True,  True,  True,  True]])"
      ]
     },
     "execution_count": 77,
     "metadata": {},
     "output_type": "execute_result"
    }
   ],
   "source": [
    "np.ones((4,4),dtype='bool')"
   ]
  },
  {
   "cell_type": "code",
   "execution_count": 78,
   "id": "964c54be",
   "metadata": {},
   "outputs": [
    {
     "data": {
      "text/plain": [
       "array([[False, False, False, False],\n",
       "       [False, False, False, False],\n",
       "       [False, False, False, False],\n",
       "       [False, False, False, False]])"
      ]
     },
     "execution_count": 78,
     "metadata": {},
     "output_type": "execute_result"
    }
   ],
   "source": [
    "#We want an array 4 X 4 in whcih all values must be False\n",
    "np.full((4,4),False)"
   ]
  },
  {
   "cell_type": "code",
   "execution_count": 79,
   "id": "0c4a3614",
   "metadata": {},
   "outputs": [
    {
     "data": {
      "text/plain": [
       "array([[False, False, False, False],\n",
       "       [False, False, False, False],\n",
       "       [False, False, False, False],\n",
       "       [False, False, False, False]])"
      ]
     },
     "execution_count": 79,
     "metadata": {},
     "output_type": "execute_result"
    }
   ],
   "source": [
    "np.zeros((4,4),dtype='bool')"
   ]
  },
  {
   "cell_type": "code",
   "execution_count": 80,
   "id": "13ec6108",
   "metadata": {},
   "outputs": [
    {
     "data": {
      "text/plain": [
       "array([[1., 0., 0., 0.],\n",
       "       [0., 1., 0., 0.],\n",
       "       [0., 0., 1., 0.],\n",
       "       [0., 0., 0., 1.]])"
      ]
     },
     "execution_count": 80,
     "metadata": {},
     "output_type": "execute_result"
    }
   ],
   "source": [
    "#We want an array 4 X 4 in whcih diagonal values must be True and non diagonal False\n",
    "np.identity(4)"
   ]
  },
  {
   "cell_type": "code",
   "execution_count": 81,
   "id": "eab8748d",
   "metadata": {},
   "outputs": [
    {
     "data": {
      "text/plain": [
       "array([[1, 0, 0, 0],\n",
       "       [0, 1, 0, 0],\n",
       "       [0, 0, 1, 0],\n",
       "       [0, 0, 0, 1]])"
      ]
     },
     "execution_count": 81,
     "metadata": {},
     "output_type": "execute_result"
    }
   ],
   "source": [
    "np.identity(4,dtype=int)"
   ]
  },
  {
   "cell_type": "code",
   "execution_count": 82,
   "id": "27da335b",
   "metadata": {},
   "outputs": [
    {
     "data": {
      "text/plain": [
       "array([[ True, False, False, False],\n",
       "       [False,  True, False, False],\n",
       "       [False, False,  True, False],\n",
       "       [False, False, False,  True]])"
      ]
     },
     "execution_count": 82,
     "metadata": {},
     "output_type": "execute_result"
    }
   ],
   "source": [
    "np.identity(4,dtype=bool)"
   ]
  },
  {
   "cell_type": "code",
   "execution_count": 83,
   "id": "3cf9c1ff",
   "metadata": {},
   "outputs": [
    {
     "data": {
      "text/plain": [
       "array([[1, 0, 0, 0],\n",
       "       [0, 1, 0, 0],\n",
       "       [0, 0, 1, 0],\n",
       "       [0, 0, 0, 1]])"
      ]
     },
     "execution_count": 83,
     "metadata": {},
     "output_type": "execute_result"
    }
   ],
   "source": [
    "# We want an array 4 X 4 in whcih diagonal values must be False and non diagonal True\n",
    "e = np.identity(4,dtype=int)\n",
    "e"
   ]
  },
  {
   "cell_type": "code",
   "execution_count": 84,
   "id": "d610210f",
   "metadata": {},
   "outputs": [
    {
     "data": {
      "text/plain": [
       "array([[-2, -1, -1, -1],\n",
       "       [-1, -2, -1, -1],\n",
       "       [-1, -1, -2, -1],\n",
       "       [-1, -1, -1, -2]], dtype=int32)"
      ]
     },
     "execution_count": 84,
     "metadata": {},
     "output_type": "execute_result"
    }
   ],
   "source": [
    "e2 = np.invert(e)\n",
    "e2"
   ]
  },
  {
   "cell_type": "code",
   "execution_count": 85,
   "id": "583123ee",
   "metadata": {},
   "outputs": [
    {
     "data": {
      "text/plain": [
       "array([[ True,  True,  True,  True],\n",
       "       [ True,  True,  True,  True],\n",
       "       [ True,  True,  True,  True],\n",
       "       [ True,  True,  True,  True]])"
      ]
     },
     "execution_count": 85,
     "metadata": {},
     "output_type": "execute_result"
    }
   ],
   "source": [
    "e2.astype('bool')"
   ]
  },
  {
   "cell_type": "code",
   "execution_count": 86,
   "id": "91dad565",
   "metadata": {},
   "outputs": [
    {
     "data": {
      "text/plain": [
       "array([[1, 0, 0, 0],\n",
       "       [0, 1, 0, 0],\n",
       "       [0, 0, 1, 0],\n",
       "       [0, 0, 0, 1]])"
      ]
     },
     "execution_count": 86,
     "metadata": {},
     "output_type": "execute_result"
    }
   ],
   "source": [
    "e"
   ]
  },
  {
   "cell_type": "code",
   "execution_count": 87,
   "id": "3f542eed",
   "metadata": {},
   "outputs": [
    {
     "data": {
      "text/plain": [
       "array([[False,  True,  True,  True],\n",
       "       [ True, False,  True,  True],\n",
       "       [ True,  True, False,  True],\n",
       "       [ True,  True,  True, False]])"
      ]
     },
     "execution_count": 87,
     "metadata": {},
     "output_type": "execute_result"
    }
   ],
   "source": [
    "~ e.astype('bool')"
   ]
  },
  {
   "cell_type": "code",
   "execution_count": 88,
   "id": "71f97266",
   "metadata": {},
   "outputs": [
    {
     "data": {
      "text/plain": [
       "array([[1, 0, 0, 0],\n",
       "       [0, 1, 0, 0],\n",
       "       [0, 0, 1, 0],\n",
       "       [0, 0, 0, 1]])"
      ]
     },
     "execution_count": 88,
     "metadata": {},
     "output_type": "execute_result"
    }
   ],
   "source": [
    "e"
   ]
  },
  {
   "cell_type": "code",
   "execution_count": 89,
   "id": "d8cfa159",
   "metadata": {},
   "outputs": [
    {
     "data": {
      "text/plain": [
       "array([[-2, -1, -1, -1],\n",
       "       [-1, -2, -1, -1],\n",
       "       [-1, -1, -2, -1],\n",
       "       [-1, -1, -1, -2]], dtype=int32)"
      ]
     },
     "execution_count": 89,
     "metadata": {},
     "output_type": "execute_result"
    }
   ],
   "source": [
    "~e"
   ]
  },
  {
   "cell_type": "code",
   "execution_count": 90,
   "id": "7a9c5d6a",
   "metadata": {},
   "outputs": [
    {
     "data": {
      "text/plain": [
       "-2"
      ]
     },
     "execution_count": 90,
     "metadata": {},
     "output_type": "execute_result"
    }
   ],
   "source": [
    "~1"
   ]
  },
  {
   "cell_type": "code",
   "execution_count": 91,
   "id": "6cddab67",
   "metadata": {},
   "outputs": [
    {
     "data": {
      "text/plain": [
       "-1"
      ]
     },
     "execution_count": 91,
     "metadata": {},
     "output_type": "execute_result"
    }
   ],
   "source": [
    "~0"
   ]
  },
  {
   "cell_type": "code",
   "execution_count": 92,
   "id": "4c3bd77b",
   "metadata": {},
   "outputs": [
    {
     "data": {
      "text/plain": [
       "array([[1, 0, 0, 0],\n",
       "       [0, 1, 0, 0],\n",
       "       [0, 0, 1, 0],\n",
       "       [0, 0, 0, 1]])"
      ]
     },
     "execution_count": 92,
     "metadata": {},
     "output_type": "execute_result"
    }
   ],
   "source": [
    "e"
   ]
  },
  {
   "cell_type": "code",
   "execution_count": 93,
   "id": "b79fd754",
   "metadata": {},
   "outputs": [
    {
     "data": {
      "text/plain": [
       "dtype('int32')"
      ]
     },
     "execution_count": 93,
     "metadata": {},
     "output_type": "execute_result"
    }
   ],
   "source": [
    "e.dtype"
   ]
  },
  {
   "cell_type": "code",
   "execution_count": 94,
   "id": "5e994374",
   "metadata": {},
   "outputs": [
    {
     "data": {
      "text/plain": [
       "array([[1., 0., 0., 0.],\n",
       "       [0., 1., 0., 0.],\n",
       "       [0., 0., 1., 0.],\n",
       "       [0., 0., 0., 1.]])"
      ]
     },
     "execution_count": 94,
     "metadata": {},
     "output_type": "execute_result"
    }
   ],
   "source": [
    "e.astype(float)"
   ]
  },
  {
   "cell_type": "markdown",
   "id": "fda09c7e",
   "metadata": {},
   "source": [
    "# np.where()\n",
    "- convert values > 12 as 1 and values<12 as 0"
   ]
  },
  {
   "cell_type": "code",
   "execution_count": 95,
   "id": "28bffdc8",
   "metadata": {},
   "outputs": [
    {
     "data": {
      "text/plain": [
       "array([[ 1,  2,  3,  4,  5,  6],\n",
       "       [ 7,  8,  9, 10, 11, 12],\n",
       "       [13, 14, 15, 16, 17, 18],\n",
       "       [19, 20, 21, 22, 23, 24]])"
      ]
     },
     "execution_count": 95,
     "metadata": {},
     "output_type": "execute_result"
    }
   ],
   "source": [
    "a"
   ]
  },
  {
   "cell_type": "code",
   "execution_count": 96,
   "id": "04e5fca8",
   "metadata": {},
   "outputs": [
    {
     "data": {
      "text/plain": [
       "array([[0, 0, 0, 0, 0, 0],\n",
       "       [0, 0, 0, 0, 0, 0],\n",
       "       [1, 1, 1, 1, 1, 1],\n",
       "       [1, 1, 1, 1, 1, 1]])"
      ]
     },
     "execution_count": 96,
     "metadata": {},
     "output_type": "execute_result"
    }
   ],
   "source": [
    "# np.where(condition, return x if True , else y)\n",
    "np.where(a>12,1,0)"
   ]
  },
  {
   "cell_type": "code",
   "execution_count": 97,
   "id": "b2414684",
   "metadata": {},
   "outputs": [
    {
     "data": {
      "text/plain": [
       "array([[False, False, False, False, False, False],\n",
       "       [False, False, False, False, False, False],\n",
       "       [ True,  True,  True,  True,  True,  True],\n",
       "       [ True,  True,  True,  True,  True,  True]])"
      ]
     },
     "execution_count": 97,
     "metadata": {},
     "output_type": "execute_result"
    }
   ],
   "source": [
    "np.where(a>12,True,False)"
   ]
  },
  {
   "cell_type": "code",
   "execution_count": 98,
   "id": "a273f104",
   "metadata": {},
   "outputs": [
    {
     "data": {
      "text/plain": [
       "array([[ -1,  -2,  -3,  -4,  25,  -6],\n",
       "       [ -7,  -8,  -9, 100, -11, -12],\n",
       "       [-13, -14, 225, -16, -17, -18],\n",
       "       [-19, 400, -21, -22, -23, -24]])"
      ]
     },
     "execution_count": 98,
     "metadata": {},
     "output_type": "execute_result"
    }
   ],
   "source": [
    "# suqare value if its % 5 ==0 (divisible by 5)\n",
    "np.where(a%5==0,a**2,-a)\n",
    "# values divisible by 5 => square\n",
    "# values not divisible by 5=> make them -ve"
   ]
  },
  {
   "cell_type": "code",
   "execution_count": 99,
   "id": "9194b262",
   "metadata": {},
   "outputs": [
    {
     "data": {
      "text/plain": [
       "array([[  0,   0,   0,   0,  25,   0],\n",
       "       [  0,   0,   0, 100,   0,   0],\n",
       "       [  0,   0, 225,   0,   0,   0],\n",
       "       [  0, 400,   0,   0,   0,   0]], dtype=int32)"
      ]
     },
     "execution_count": 99,
     "metadata": {},
     "output_type": "execute_result"
    }
   ],
   "source": [
    "np.where(a%5==0,a**2,0)"
   ]
  },
  {
   "cell_type": "code",
   "execution_count": 100,
   "id": "8a6c055d",
   "metadata": {},
   "outputs": [
    {
     "data": {
      "text/plain": [
       "array(['on', 'off', 'on', 'on', 'off'], dtype='<U3')"
      ]
     },
     "execution_count": 100,
     "metadata": {},
     "output_type": "execute_result"
    }
   ],
   "source": [
    "condition = np.array(['on','off','on','on','off'])\n",
    "condition"
   ]
  },
  {
   "cell_type": "code",
   "execution_count": 101,
   "id": "7d7ec2da",
   "metadata": {},
   "outputs": [
    {
     "data": {
      "text/plain": [
       "array([1, 0, 1, 1, 0])"
      ]
     },
     "execution_count": 101,
     "metadata": {},
     "output_type": "execute_result"
    }
   ],
   "source": [
    "# Convert on as 1 and off as 0\n",
    "np.where(condition=='on',1,0)"
   ]
  },
  {
   "cell_type": "markdown",
   "id": "6852162d",
   "metadata": {},
   "source": [
    "# Splitting of array"
   ]
  },
  {
   "cell_type": "code",
   "execution_count": 102,
   "id": "63fe0448",
   "metadata": {},
   "outputs": [
    {
     "data": {
      "text/plain": [
       "array([[ 1,  2,  3,  4,  5,  6],\n",
       "       [ 7,  8,  9, 10, 11, 12],\n",
       "       [13, 14, 15, 16, 17, 18],\n",
       "       [19, 20, 21, 22, 23, 24]])"
      ]
     },
     "execution_count": 102,
     "metadata": {},
     "output_type": "execute_result"
    }
   ],
   "source": [
    "a"
   ]
  },
  {
   "cell_type": "code",
   "execution_count": 103,
   "id": "37ac4511",
   "metadata": {},
   "outputs": [
    {
     "data": {
      "text/plain": [
       "[array([[ 1,  2,  3,  4,  5,  6],\n",
       "        [ 7,  8,  9, 10, 11, 12]]),\n",
       " array([[13, 14, 15, 16, 17, 18],\n",
       "        [19, 20, 21, 22, 23, 24]])]"
      ]
     },
     "execution_count": 103,
     "metadata": {},
     "output_type": "execute_result"
    }
   ],
   "source": [
    "#Split an array into multiple sub-arrays as views into `ary`.\n",
    "np.split(a,2)"
   ]
  },
  {
   "cell_type": "code",
   "execution_count": 104,
   "id": "bfa817b7",
   "metadata": {},
   "outputs": [
    {
     "ename": "ValueError",
     "evalue": "array split does not result in an equal division",
     "output_type": "error",
     "traceback": [
      "\u001b[1;31m---------------------------------------------------------------------------\u001b[0m",
      "\u001b[1;31mValueError\u001b[0m                                Traceback (most recent call last)",
      "\u001b[1;32m~\\AppData\\Local\\Temp\\ipykernel_8752\\1618336096.py\u001b[0m in \u001b[0;36m<module>\u001b[1;34m\u001b[0m\n\u001b[0;32m      1\u001b[0m \u001b[1;31m#Split an array into multiple sub-arrays as views into `ary`.\u001b[0m\u001b[1;33m\u001b[0m\u001b[1;33m\u001b[0m\u001b[0m\n\u001b[1;32m----> 2\u001b[1;33m \u001b[0mnp\u001b[0m\u001b[1;33m.\u001b[0m\u001b[0msplit\u001b[0m\u001b[1;33m(\u001b[0m\u001b[0ma\u001b[0m\u001b[1;33m,\u001b[0m\u001b[1;36m3\u001b[0m\u001b[1;33m)\u001b[0m\u001b[1;33m\u001b[0m\u001b[1;33m\u001b[0m\u001b[0m\n\u001b[0m",
      "\u001b[1;32m<__array_function__ internals>\u001b[0m in \u001b[0;36msplit\u001b[1;34m(*args, **kwargs)\u001b[0m\n",
      "\u001b[1;32mC:\\ProgramData\\Anaconda3\\lib\\site-packages\\numpy\\lib\\shape_base.py\u001b[0m in \u001b[0;36msplit\u001b[1;34m(ary, indices_or_sections, axis)\u001b[0m\n\u001b[0;32m    870\u001b[0m         \u001b[0mN\u001b[0m \u001b[1;33m=\u001b[0m \u001b[0mary\u001b[0m\u001b[1;33m.\u001b[0m\u001b[0mshape\u001b[0m\u001b[1;33m[\u001b[0m\u001b[0maxis\u001b[0m\u001b[1;33m]\u001b[0m\u001b[1;33m\u001b[0m\u001b[1;33m\u001b[0m\u001b[0m\n\u001b[0;32m    871\u001b[0m         \u001b[1;32mif\u001b[0m \u001b[0mN\u001b[0m \u001b[1;33m%\u001b[0m \u001b[0msections\u001b[0m\u001b[1;33m:\u001b[0m\u001b[1;33m\u001b[0m\u001b[1;33m\u001b[0m\u001b[0m\n\u001b[1;32m--> 872\u001b[1;33m             raise ValueError(\n\u001b[0m\u001b[0;32m    873\u001b[0m                 'array split does not result in an equal division') from None\n\u001b[0;32m    874\u001b[0m     \u001b[1;32mreturn\u001b[0m \u001b[0marray_split\u001b[0m\u001b[1;33m(\u001b[0m\u001b[0mary\u001b[0m\u001b[1;33m,\u001b[0m \u001b[0mindices_or_sections\u001b[0m\u001b[1;33m,\u001b[0m \u001b[0maxis\u001b[0m\u001b[1;33m)\u001b[0m\u001b[1;33m\u001b[0m\u001b[1;33m\u001b[0m\u001b[0m\n",
      "\u001b[1;31mValueError\u001b[0m: array split does not result in an equal division"
     ]
    }
   ],
   "source": [
    "#Split an array into multiple sub-arrays as views into `ary`.\n",
    "np.split(a,3) # odd distribustion is not allowed"
   ]
  },
  {
   "cell_type": "code",
   "execution_count": 105,
   "id": "4a145cf7",
   "metadata": {},
   "outputs": [
    {
     "data": {
      "text/plain": [
       "[array([[1, 2, 3, 4, 5, 6]]),\n",
       " array([[ 7,  8,  9, 10, 11, 12]]),\n",
       " array([[13, 14, 15, 16, 17, 18]]),\n",
       " array([[19, 20, 21, 22, 23, 24]])]"
      ]
     },
     "execution_count": 105,
     "metadata": {},
     "output_type": "execute_result"
    }
   ],
   "source": [
    "#Split an array into multiple sub-arrays as views into `ary`.\n",
    "np.split(a,4)"
   ]
  },
  {
   "cell_type": "code",
   "execution_count": 106,
   "id": "aa0b0566",
   "metadata": {},
   "outputs": [],
   "source": [
    "# unpacking\n",
    "s1,s2,s3,s4 = np.split(a,4)"
   ]
  },
  {
   "cell_type": "code",
   "execution_count": 107,
   "id": "67ee603f",
   "metadata": {},
   "outputs": [
    {
     "data": {
      "text/plain": [
       "array([[1, 2, 3, 4, 5, 6]])"
      ]
     },
     "execution_count": 107,
     "metadata": {},
     "output_type": "execute_result"
    }
   ],
   "source": [
    "s1"
   ]
  },
  {
   "cell_type": "code",
   "execution_count": 108,
   "id": "902da618",
   "metadata": {},
   "outputs": [
    {
     "data": {
      "text/plain": [
       "array([[13, 14, 15, 16, 17, 18]])"
      ]
     },
     "execution_count": 108,
     "metadata": {},
     "output_type": "execute_result"
    }
   ],
   "source": [
    "s3"
   ]
  },
  {
   "cell_type": "code",
   "execution_count": 109,
   "id": "33c2f64b",
   "metadata": {},
   "outputs": [
    {
     "data": {
      "text/plain": [
       "array([[19, 20, 21, 22, 23, 24]])"
      ]
     },
     "execution_count": 109,
     "metadata": {},
     "output_type": "execute_result"
    }
   ],
   "source": [
    "s4"
   ]
  },
  {
   "cell_type": "markdown",
   "id": "63c41d2d",
   "metadata": {},
   "source": [
    "## columnwise split"
   ]
  },
  {
   "cell_type": "code",
   "execution_count": 111,
   "id": "d276237d",
   "metadata": {},
   "outputs": [
    {
     "data": {
      "text/plain": [
       "array([[ 1,  2,  3,  4,  5,  6],\n",
       "       [ 7,  8,  9, 10, 11, 12],\n",
       "       [13, 14, 15, 16, 17, 18],\n",
       "       [19, 20, 21, 22, 23, 24]])"
      ]
     },
     "execution_count": 111,
     "metadata": {},
     "output_type": "execute_result"
    }
   ],
   "source": [
    "a"
   ]
  },
  {
   "cell_type": "code",
   "execution_count": 112,
   "id": "f67cb7e7",
   "metadata": {},
   "outputs": [
    {
     "data": {
      "text/plain": [
       "[array([[ 1,  2,  3],\n",
       "        [ 7,  8,  9],\n",
       "        [13, 14, 15],\n",
       "        [19, 20, 21]]),\n",
       " array([[ 4,  5,  6],\n",
       "        [10, 11, 12],\n",
       "        [16, 17, 18],\n",
       "        [22, 23, 24]])]"
      ]
     },
     "execution_count": 112,
     "metadata": {},
     "output_type": "execute_result"
    }
   ],
   "source": [
    "np.split(a,2,axis=1)"
   ]
  },
  {
   "cell_type": "code",
   "execution_count": 114,
   "id": "76e3ca99",
   "metadata": {},
   "outputs": [
    {
     "data": {
      "text/plain": [
       "[array([[ 1,  2],\n",
       "        [ 7,  8],\n",
       "        [13, 14],\n",
       "        [19, 20]]),\n",
       " array([[ 3,  4],\n",
       "        [ 9, 10],\n",
       "        [15, 16],\n",
       "        [21, 22]]),\n",
       " array([[ 5,  6],\n",
       "        [11, 12],\n",
       "        [17, 18],\n",
       "        [23, 24]])]"
      ]
     },
     "execution_count": 114,
     "metadata": {},
     "output_type": "execute_result"
    }
   ],
   "source": [
    "np.split(a,3,axis=1)"
   ]
  },
  {
   "cell_type": "code",
   "execution_count": 115,
   "id": "8c97de8b",
   "metadata": {},
   "outputs": [
    {
     "data": {
      "text/plain": [
       "(4, 6)"
      ]
     },
     "execution_count": 115,
     "metadata": {},
     "output_type": "execute_result"
    }
   ],
   "source": [
    "a.shape"
   ]
  },
  {
   "cell_type": "code",
   "execution_count": 117,
   "id": "8e033735",
   "metadata": {},
   "outputs": [
    {
     "data": {
      "text/plain": [
       "[array([[ 1,  2,  3,  4,  5,  6],\n",
       "        [ 7,  8,  9, 10, 11, 12]]),\n",
       " array([[13, 14, 15, 16, 17, 18],\n",
       "        [19, 20, 21, 22, 23, 24]])]"
      ]
     },
     "execution_count": 117,
     "metadata": {},
     "output_type": "execute_result"
    }
   ],
   "source": [
    "np.vsplit(a,2) # spliting by rows"
   ]
  },
  {
   "cell_type": "code",
   "execution_count": 119,
   "id": "1e837f13",
   "metadata": {},
   "outputs": [
    {
     "data": {
      "text/plain": [
       "[array([[ 1,  2],\n",
       "        [ 7,  8],\n",
       "        [13, 14],\n",
       "        [19, 20]]),\n",
       " array([[ 3,  4],\n",
       "        [ 9, 10],\n",
       "        [15, 16],\n",
       "        [21, 22]]),\n",
       " array([[ 5,  6],\n",
       "        [11, 12],\n",
       "        [17, 18],\n",
       "        [23, 24]])]"
      ]
     },
     "execution_count": 119,
     "metadata": {},
     "output_type": "execute_result"
    }
   ],
   "source": [
    "np.hsplit(a,3) #spliting by columns"
   ]
  },
  {
   "cell_type": "markdown",
   "id": "7b7069fa",
   "metadata": {},
   "source": [
    "# np.append()\n",
    "- axis = 1 [for Column]\n",
    "- axis = 0 [for row]\n",
    "- axis= None [for 1D array]"
   ]
  },
  {
   "cell_type": "code",
   "execution_count": 120,
   "id": "19ef2858",
   "metadata": {},
   "outputs": [
    {
     "data": {
      "text/plain": [
       "array([[ 1,  2,  3,  4,  5,  6],\n",
       "       [ 7,  8,  9, 10, 11, 12],\n",
       "       [13, 14, 15, 16, 17, 18],\n",
       "       [19, 20, 21, 22, 23, 24]])"
      ]
     },
     "execution_count": 120,
     "metadata": {},
     "output_type": "execute_result"
    }
   ],
   "source": [
    "a"
   ]
  },
  {
   "cell_type": "code",
   "execution_count": 121,
   "id": "5601217f",
   "metadata": {},
   "outputs": [
    {
     "data": {
      "text/plain": [
       "2"
      ]
     },
     "execution_count": 121,
     "metadata": {},
     "output_type": "execute_result"
    }
   ],
   "source": [
    "a.ndim"
   ]
  },
  {
   "cell_type": "code",
   "execution_count": 122,
   "id": "25f4a1dd",
   "metadata": {},
   "outputs": [
    {
     "data": {
      "text/plain": [
       "array([  1,   2,   3,   4,   5,   6,   7,   8,   9,  10,  11,  12,  13,\n",
       "        14,  15,  16,  17,  18,  19,  20,  21,  22,  23,  24, 100])"
      ]
     },
     "execution_count": 122,
     "metadata": {},
     "output_type": "execute_result"
    }
   ],
   "source": [
    "#Append values to the end of an array.\n",
    "# When we have axis=None it will conver n-D array to 1D & add new element's at the end of it\n",
    "np.append(a,100)"
   ]
  },
  {
   "cell_type": "code",
   "execution_count": 123,
   "id": "5818e728",
   "metadata": {},
   "outputs": [
    {
     "data": {
      "text/plain": [
       "array([  1,   2,   3,   4,   5,   6,   7,   8,   9,  10,  11,  12,  13,\n",
       "        14,  15,  16,  17,  18,  19,  20,  21,  22,  23,  24, 101, 102,\n",
       "       103, 104, 105])"
      ]
     },
     "execution_count": 123,
     "metadata": {},
     "output_type": "execute_result"
    }
   ],
   "source": [
    "np.append(a,range(101,106))"
   ]
  },
  {
   "cell_type": "code",
   "execution_count": 124,
   "id": "e8efe370",
   "metadata": {},
   "outputs": [
    {
     "data": {
      "text/plain": [
       "array([ 1,  2,  3,  4,  5,  6,  7,  8,  9, 10, 11, 12, 13, 14, 15, 16, 17,\n",
       "       18, 19, 20, 21, 22, 23, 24, 10, 11, 12, 13, 14, 15, 16, 17, 18, 19])"
      ]
     },
     "execution_count": 124,
     "metadata": {},
     "output_type": "execute_result"
    }
   ],
   "source": [
    "np.append(a,range(10,20))"
   ]
  },
  {
   "cell_type": "code",
   "execution_count": 125,
   "id": "a1cd8af3",
   "metadata": {},
   "outputs": [
    {
     "data": {
      "text/plain": [
       "array([[ 1,  2,  3,  4,  5,  6, -1],\n",
       "       [ 7,  8,  9, 10, 11, 12, -2],\n",
       "       [13, 14, 15, 16, 17, 18, -3],\n",
       "       [19, 20, 21, 22, 23, 24, -4]])"
      ]
     },
     "execution_count": 125,
     "metadata": {},
     "output_type": "execute_result"
    }
   ],
   "source": [
    "# append values  in row\n",
    "np.append(a,[[-1],[-2],[-3],[-4]],axis=1)"
   ]
  },
  {
   "cell_type": "code",
   "execution_count": 126,
   "id": "e605d0a8",
   "metadata": {},
   "outputs": [
    {
     "data": {
      "text/plain": [
       "array([[ 1,  2,  3,  4,  5,  6],\n",
       "       [ 7,  8,  9, 10, 11, 12],\n",
       "       [13, 14, 15, 16, 17, 18],\n",
       "       [19, 20, 21, 22, 23, 24]])"
      ]
     },
     "execution_count": 126,
     "metadata": {},
     "output_type": "execute_result"
    }
   ],
   "source": [
    "a"
   ]
  },
  {
   "cell_type": "code",
   "execution_count": 127,
   "id": "da68ffa7",
   "metadata": {},
   "outputs": [
    {
     "data": {
      "text/plain": [
       "array([[ 1,  2,  3,  4,  5,  6],\n",
       "       [ 7,  8,  9, 10, 11, 12],\n",
       "       [13, 14, 15, 16, 17, 18],\n",
       "       [19, 20, 21, 22, 23, 24],\n",
       "       [ 0,  0,  0,  0,  0,  0]])"
      ]
     },
     "execution_count": 127,
     "metadata": {},
     "output_type": "execute_result"
    }
   ],
   "source": [
    "#append value in column\n",
    "# PS: append a row of zero's\n",
    "np.append(a,[[0,0,0,0,0,0]],axis=0)"
   ]
  },
  {
   "cell_type": "code",
   "execution_count": 135,
   "id": "e2265b45",
   "metadata": {},
   "outputs": [
    {
     "data": {
      "text/plain": [
       "array([[ 1,  2,  3,  4,  5,  6,  1],\n",
       "       [ 7,  8,  9, 10, 11, 12,  2],\n",
       "       [13, 14, 15, 16, 17, 18,  3],\n",
       "       [19, 20, 21, 22, 23, 24,  4]])"
      ]
     },
     "execution_count": 135,
     "metadata": {},
     "output_type": "execute_result"
    }
   ],
   "source": [
    "np.append(a,[[1],[2],[3],[4]],axis=1)"
   ]
  },
  {
   "cell_type": "code",
   "execution_count": 136,
   "id": "ad322c62",
   "metadata": {},
   "outputs": [
    {
     "data": {
      "text/plain": [
       "array([[ 1,  2,  3,  4,  5,  6],\n",
       "       [ 7,  8,  9, 10, 11, 12],\n",
       "       [13, 14, 15, 16, 17, 18],\n",
       "       [19, 20, 21, 22, 23, 24]])"
      ]
     },
     "execution_count": 136,
     "metadata": {},
     "output_type": "execute_result"
    }
   ],
   "source": [
    "a"
   ]
  },
  {
   "cell_type": "code",
   "execution_count": 137,
   "id": "1231982e",
   "metadata": {},
   "outputs": [
    {
     "ename": "TypeError",
     "evalue": "_append_dispatcher() got multiple values for argument 'axis'",
     "output_type": "error",
     "traceback": [
      "\u001b[1;31m---------------------------------------------------------------------------\u001b[0m",
      "\u001b[1;31mTypeError\u001b[0m                                 Traceback (most recent call last)",
      "\u001b[1;32m~\\AppData\\Local\\Temp\\ipykernel_8752\\779110627.py\u001b[0m in \u001b[0;36m<module>\u001b[1;34m\u001b[0m\n\u001b[0;32m      1\u001b[0m \u001b[1;31m# can we add multiple rows: No\u001b[0m\u001b[1;33m\u001b[0m\u001b[1;33m\u001b[0m\u001b[0m\n\u001b[1;32m----> 2\u001b[1;33m \u001b[0mnp\u001b[0m\u001b[1;33m.\u001b[0m\u001b[0mappend\u001b[0m\u001b[1;33m(\u001b[0m\u001b[0ma\u001b[0m\u001b[1;33m,\u001b[0m\u001b[1;33m[\u001b[0m\u001b[1;33m[\u001b[0m\u001b[1;36m0\u001b[0m\u001b[1;33m,\u001b[0m\u001b[1;36m0\u001b[0m\u001b[1;33m,\u001b[0m\u001b[1;36m0\u001b[0m\u001b[1;33m,\u001b[0m\u001b[1;36m0\u001b[0m\u001b[1;33m,\u001b[0m\u001b[1;36m0\u001b[0m\u001b[1;33m,\u001b[0m\u001b[1;36m0\u001b[0m\u001b[1;33m]\u001b[0m\u001b[1;33m]\u001b[0m\u001b[1;33m,\u001b[0m\u001b[1;33m[\u001b[0m\u001b[1;33m[\u001b[0m\u001b[1;36m2\u001b[0m\u001b[1;33m,\u001b[0m\u001b[1;36m2\u001b[0m\u001b[1;33m,\u001b[0m\u001b[1;36m2\u001b[0m\u001b[1;33m,\u001b[0m\u001b[1;36m2\u001b[0m\u001b[1;33m,\u001b[0m\u001b[1;36m2\u001b[0m\u001b[1;33m,\u001b[0m\u001b[1;36m2\u001b[0m\u001b[1;33m]\u001b[0m\u001b[1;33m]\u001b[0m\u001b[1;33m,\u001b[0m\u001b[0maxis\u001b[0m\u001b[1;33m=\u001b[0m\u001b[1;36m0\u001b[0m\u001b[1;33m)\u001b[0m\u001b[1;33m\u001b[0m\u001b[1;33m\u001b[0m\u001b[0m\n\u001b[0m",
      "\u001b[1;32m<__array_function__ internals>\u001b[0m in \u001b[0;36mappend\u001b[1;34m(*args, **kwargs)\u001b[0m\n",
      "\u001b[1;31mTypeError\u001b[0m: _append_dispatcher() got multiple values for argument 'axis'"
     ]
    }
   ],
   "source": [
    "# can we add multiple rows: No\n",
    "np.append(a,[[0,0,0,0,0,0]],[[2,2,2,2,2,2]],axis=0)"
   ]
  },
  {
   "cell_type": "code",
   "execution_count": 138,
   "id": "a6daae75",
   "metadata": {},
   "outputs": [
    {
     "data": {
      "text/plain": [
       "array([[ 1,  2,  3,  4,  5,  6],\n",
       "       [ 7,  8,  9, 10, 11, 12],\n",
       "       [13, 14, 15, 16, 17, 18],\n",
       "       [19, 20, 21, 22, 23, 24],\n",
       "       [ 0,  0,  0,  0,  0,  0],\n",
       "       [ 2,  2,  2,  2,  2,  2]])"
      ]
     },
     "execution_count": 138,
     "metadata": {},
     "output_type": "execute_result"
    }
   ],
   "source": [
    "np.append(a,[[0,0,0,0,0,0],[2,2,2,2,2,2]],axis=0)"
   ]
  },
  {
   "cell_type": "markdown",
   "id": "956b96a6",
   "metadata": {},
   "source": [
    "# np.delet"
   ]
  },
  {
   "cell_type": "code",
   "execution_count": 139,
   "id": "cdd2e3c3",
   "metadata": {},
   "outputs": [
    {
     "data": {
      "text/plain": [
       "array([[ 1,  2,  3,  4,  5,  6],\n",
       "       [ 7,  8,  9, 10, 11, 12],\n",
       "       [13, 14, 15, 16, 17, 18],\n",
       "       [19, 20, 21, 22, 23, 24]])"
      ]
     },
     "execution_count": 139,
     "metadata": {},
     "output_type": "execute_result"
    }
   ],
   "source": [
    "a"
   ]
  },
  {
   "cell_type": "code",
   "execution_count": 140,
   "id": "5eed979d",
   "metadata": {},
   "outputs": [
    {
     "data": {
      "text/plain": [
       "array([19, 20, 21, 22, 23, 24])"
      ]
     },
     "execution_count": 140,
     "metadata": {},
     "output_type": "execute_result"
    }
   ],
   "source": [
    "a[-1]"
   ]
  },
  {
   "cell_type": "code",
   "execution_count": 141,
   "id": "7be1135b",
   "metadata": {},
   "outputs": [
    {
     "data": {
      "text/plain": [
       "array([ 1,  2,  3,  4,  5,  6,  7,  8,  9, 10, 11, 12, 13, 14, 15, 16, 17,\n",
       "       18, 19, 20, 21, 22, 23])"
      ]
     },
     "execution_count": 141,
     "metadata": {},
     "output_type": "execute_result"
    }
   ],
   "source": [
    "\"\"\"\n",
    "Signature: np.delete(arr, obj/index, axis=None)\n",
    "Docstring:\n",
    "Return a new array with sub-arrays along an axis deleted. For a one\n",
    "dimensional array, this returns those entries not returned by\n",
    "\"\"\"\n",
    "# this will remove last element bcz axis=None\n",
    "np.delete(a,-1)"
   ]
  },
  {
   "cell_type": "code",
   "execution_count": 142,
   "id": "892d7f55",
   "metadata": {},
   "outputs": [
    {
     "data": {
      "text/plain": [
       "array([[ 1,  2,  3,  4,  5,  6],\n",
       "       [ 7,  8,  9, 10, 11, 12],\n",
       "       [13, 14, 15, 16, 17, 18]])"
      ]
     },
     "execution_count": 142,
     "metadata": {},
     "output_type": "execute_result"
    }
   ],
   "source": [
    "# delete last row\n",
    "np.delete(a,-1,axis=0)"
   ]
  },
  {
   "cell_type": "code",
   "execution_count": 143,
   "id": "3c04fae7",
   "metadata": {},
   "outputs": [
    {
     "data": {
      "text/plain": [
       "array([[ 1,  2,  3,  4,  5,  6],\n",
       "       [ 7,  8,  9, 10, 11, 12],\n",
       "       [13, 14, 15, 16, 17, 18],\n",
       "       [19, 20, 21, 22, 23, 24]])"
      ]
     },
     "execution_count": 143,
     "metadata": {},
     "output_type": "execute_result"
    }
   ],
   "source": [
    "a"
   ]
  },
  {
   "cell_type": "code",
   "execution_count": 144,
   "id": "1a8c81da",
   "metadata": {},
   "outputs": [
    {
     "data": {
      "text/plain": [
       "array([[ 1,  2,  3,  4,  5],\n",
       "       [ 7,  8,  9, 10, 11],\n",
       "       [13, 14, 15, 16, 17],\n",
       "       [19, 20, 21, 22, 23]])"
      ]
     },
     "execution_count": 144,
     "metadata": {},
     "output_type": "execute_result"
    }
   ],
   "source": [
    "# delete a last column, but temp.\n",
    "np.delete(a,-1,axis=1)"
   ]
  },
  {
   "cell_type": "code",
   "execution_count": 145,
   "id": "b5e06dbc",
   "metadata": {},
   "outputs": [
    {
     "data": {
      "text/plain": [
       "array([[ 1,  2,  3,  4,  5,  6],\n",
       "       [ 7,  8,  9, 10, 11, 12],\n",
       "       [13, 14, 15, 16, 17, 18],\n",
       "       [19, 20, 21, 22, 23, 24]])"
      ]
     },
     "execution_count": 145,
     "metadata": {},
     "output_type": "execute_result"
    }
   ],
   "source": [
    "a # original array is unchanged"
   ]
  },
  {
   "cell_type": "code",
   "execution_count": 146,
   "id": "04d528b6",
   "metadata": {},
   "outputs": [
    {
     "data": {
      "text/plain": [
       "array([[ 1,  2,  5,  6],\n",
       "       [ 7,  8, 11, 12],\n",
       "       [13, 14, 17, 18],\n",
       "       [19, 20, 23, 24]])"
      ]
     },
     "execution_count": 146,
     "metadata": {},
     "output_type": "execute_result"
    }
   ],
   "source": [
    "# delete a column at index 2,3\n",
    "np.delete(a,[2,3],axis=1)"
   ]
  },
  {
   "cell_type": "code",
   "execution_count": 147,
   "id": "e4c01d91",
   "metadata": {},
   "outputs": [
    {
     "data": {
      "text/plain": [
       "array([[ 1,  2,  3,  4,  5,  6],\n",
       "       [ 7,  8,  9, 10, 11, 12],\n",
       "       [13, 14, 15, 16, 17, 18],\n",
       "       [19, 20, 21, 22, 23, 24]])"
      ]
     },
     "execution_count": 147,
     "metadata": {},
     "output_type": "execute_result"
    }
   ],
   "source": [
    "a"
   ]
  },
  {
   "cell_type": "code",
   "execution_count": 148,
   "id": "417c733d",
   "metadata": {},
   "outputs": [
    {
     "data": {
      "text/plain": [
       "array([ 1,  3,  4,  5,  6,  7,  8,  9, 10, 11, 12, 13, 14, 15, 16, 17, 18,\n",
       "       19, 20, 21, 22, 23, 24])"
      ]
     },
     "execution_count": 148,
     "metadata": {},
     "output_type": "execute_result"
    }
   ],
   "source": [
    "# remove 2\n",
    "np.delete(a,1)"
   ]
  },
  {
   "cell_type": "code",
   "execution_count": 149,
   "id": "98e0ba14",
   "metadata": {},
   "outputs": [
    {
     "data": {
      "text/plain": [
       "array([ 2,  4,  6,  8, 10, 12, 14, 16, 18, 20, 22, 24])"
      ]
     },
     "execution_count": 149,
     "metadata": {},
     "output_type": "execute_result"
    }
   ],
   "source": [
    "# delete odd numbers from array a\n",
    "np.delete(a,range(0,24,2))"
   ]
  },
  {
   "cell_type": "code",
   "execution_count": 150,
   "id": "043cf97f",
   "metadata": {},
   "outputs": [
    {
     "data": {
      "text/plain": [
       "array([[ 1,  2,  3,  4,  5,  6],\n",
       "       [ 7,  8,  9, 10, 11, 12],\n",
       "       [13, 14, 15, 16, 17, 18],\n",
       "       [19, 20, 21, 22, 23, 24]])"
      ]
     },
     "execution_count": 150,
     "metadata": {},
     "output_type": "execute_result"
    }
   ],
   "source": [
    "a"
   ]
  },
  {
   "cell_type": "code",
   "execution_count": 151,
   "id": "3f23cb6e",
   "metadata": {},
   "outputs": [
    {
     "data": {
      "text/plain": [
       "[0, 2, 4, 6, 8, 10, 12, 14, 16, 18, 20, 22]"
      ]
     },
     "execution_count": 151,
     "metadata": {},
     "output_type": "execute_result"
    }
   ],
   "source": [
    "list(range(0,24,2))"
   ]
  },
  {
   "cell_type": "markdown",
   "id": "500353a7",
   "metadata": {},
   "source": [
    "# Convert nD to 1D"
   ]
  },
  {
   "cell_type": "code",
   "execution_count": 152,
   "id": "ff6f7e43",
   "metadata": {},
   "outputs": [
    {
     "data": {
      "text/plain": [
       "array([[ 1,  2,  3,  4,  5,  6],\n",
       "       [ 7,  8,  9, 10, 11, 12],\n",
       "       [13, 14, 15, 16, 17, 18],\n",
       "       [19, 20, 21, 22, 23, 24]])"
      ]
     },
     "execution_count": 152,
     "metadata": {},
     "output_type": "execute_result"
    }
   ],
   "source": [
    "a"
   ]
  },
  {
   "cell_type": "code",
   "execution_count": 153,
   "id": "4098e7f1",
   "metadata": {},
   "outputs": [
    {
     "data": {
      "text/plain": [
       "2"
      ]
     },
     "execution_count": 153,
     "metadata": {},
     "output_type": "execute_result"
    }
   ],
   "source": [
    "a.ndim"
   ]
  },
  {
   "cell_type": "code",
   "execution_count": 154,
   "id": "7fec9516",
   "metadata": {},
   "outputs": [
    {
     "data": {
      "text/plain": [
       "24"
      ]
     },
     "execution_count": 154,
     "metadata": {},
     "output_type": "execute_result"
    }
   ],
   "source": [
    "a.size"
   ]
  },
  {
   "cell_type": "code",
   "execution_count": 155,
   "id": "f20f2dab",
   "metadata": {},
   "outputs": [
    {
     "data": {
      "text/plain": [
       "(4, 6)"
      ]
     },
     "execution_count": 155,
     "metadata": {},
     "output_type": "execute_result"
    }
   ],
   "source": [
    "a.shape"
   ]
  },
  {
   "cell_type": "code",
   "execution_count": 156,
   "id": "a60890e3",
   "metadata": {},
   "outputs": [
    {
     "data": {
      "text/plain": [
       "array([ 1,  2,  3,  4,  5,  6,  7,  8,  9, 10, 11, 12, 13, 14, 15, 16, 17,\n",
       "       18, 19, 20, 21, 22, 23, 24])"
      ]
     },
     "execution_count": 156,
     "metadata": {},
     "output_type": "execute_result"
    }
   ],
   "source": [
    "#reshape\n",
    "a.reshape(24)"
   ]
  },
  {
   "cell_type": "code",
   "execution_count": 157,
   "id": "36587cbe",
   "metadata": {},
   "outputs": [
    {
     "data": {
      "text/plain": [
       "array([ 1,  2,  3,  4,  5,  6,  7,  8,  9, 10, 11, 12, 13, 14, 15, 16, 17,\n",
       "       18, 19, 20, 21, 22, 23, 24])"
      ]
     },
     "execution_count": 157,
     "metadata": {},
     "output_type": "execute_result"
    }
   ],
   "source": [
    "# ravel:Return a flattened array.\n",
    "a.ravel()"
   ]
  },
  {
   "cell_type": "code",
   "execution_count": 158,
   "id": "593e06b3",
   "metadata": {},
   "outputs": [
    {
     "data": {
      "text/plain": [
       "array([ 1,  2,  3,  4,  5,  6,  7,  8,  9, 10, 11, 12, 13, 14, 15, 16, 17,\n",
       "       18, 19, 20, 21, 22, 23, 24])"
      ]
     },
     "execution_count": 158,
     "metadata": {},
     "output_type": "execute_result"
    }
   ],
   "source": [
    "np.ravel(a)"
   ]
  },
  {
   "cell_type": "code",
   "execution_count": 159,
   "id": "35978757",
   "metadata": {},
   "outputs": [
    {
     "data": {
      "text/plain": [
       "array([[ 1,  2,  3,  4,  5,  6],\n",
       "       [ 7,  8,  9, 10, 11, 12],\n",
       "       [13, 14, 15, 16, 17, 18],\n",
       "       [19, 20, 21, 22, 23, 24]])"
      ]
     },
     "execution_count": 159,
     "metadata": {},
     "output_type": "execute_result"
    }
   ],
   "source": [
    "a"
   ]
  },
  {
   "cell_type": "code",
   "execution_count": null,
   "id": "395fbac7",
   "metadata": {},
   "outputs": [],
   "source": []
  }
 ],
 "metadata": {
  "kernelspec": {
   "display_name": "Python 3 (ipykernel)",
   "language": "python",
   "name": "python3"
  },
  "language_info": {
   "codemirror_mode": {
    "name": "ipython",
    "version": 3
   },
   "file_extension": ".py",
   "mimetype": "text/x-python",
   "name": "python",
   "nbconvert_exporter": "python",
   "pygments_lexer": "ipython3",
   "version": "3.9.13"
  }
 },
 "nbformat": 4,
 "nbformat_minor": 5
}
